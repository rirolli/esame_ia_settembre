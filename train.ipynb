{
 "cells": [
  {
   "cell_type": "markdown",
   "metadata": {},
   "source": [
    "# Train e Test del Modello"
   ]
  },
  {
   "cell_type": "markdown",
   "metadata": {},
   "source": [
    "## Import delle librerie"
   ]
  },
  {
   "cell_type": "markdown",
   "metadata": {},
   "source": [
    "Per prima cosa procediamo con l'importazione delle librerie necessarie al corretto funzionamento dell'addestramento."
   ]
  },
  {
   "cell_type": "code",
   "execution_count": 1,
   "metadata": {},
   "outputs": [
    {
     "name": "stdout",
     "output_type": "stream",
     "text": [
      "Requirement already satisfied: matplotlib==3.1.1 in c:\\program files (x86)\\microsoft visual studio\\shared\\python37_64\\lib\\site-packages (from -r requirements.txt (line 1)) (3.1.1)\n",
      "Requirement already satisfied: numpy==1.17.2 in c:\\program files (x86)\\microsoft visual studio\\shared\\python37_64\\lib\\site-packages (from -r requirements.txt (line 2)) (1.17.2)\n",
      "Requirement already satisfied: pandas==1.0.5 in c:\\users\\ricca\\appdata\\roaming\\python\\python37\\site-packages (from -r requirements.txt (line 3)) (1.0.5)\n",
      "Requirement already satisfied: scikit-learn==0.23.1 in c:\\program files (x86)\\microsoft visual studio\\shared\\python37_64\\lib\\site-packages (from -r requirements.txt (line 4)) (0.23.1)\n",
      "Requirement already satisfied: tensorflow==2.2.0 in c:\\program files (x86)\\microsoft visual studio\\shared\\python37_64\\lib\\site-packages (from -r requirements.txt (line 5)) (2.2.0)\n",
      "Requirement already satisfied: seaborn==0.10.1 in c:\\users\\ricca\\appdata\\roaming\\python\\python37\\site-packages (from -r requirements.txt (line 6)) (0.10.1)\n",
      "Requirement already satisfied: cycler>=0.10 in c:\\program files (x86)\\microsoft visual studio\\shared\\python37_64\\lib\\site-packages (from matplotlib==3.1.1->-r requirements.txt (line 1)) (0.10.0)\n",
      "Requirement already satisfied: kiwisolver>=1.0.1 in c:\\program files (x86)\\microsoft visual studio\\shared\\python37_64\\lib\\site-packages (from matplotlib==3.1.1->-r requirements.txt (line 1)) (1.1.0)\n",
      "Requirement already satisfied: python-dateutil>=2.1 in c:\\program files (x86)\\microsoft visual studio\\shared\\python37_64\\lib\\site-packages (from matplotlib==3.1.1->-r requirements.txt (line 1)) (2.8.0)\n",
      "Requirement already satisfied: pyparsing!=2.0.4,!=2.1.2,!=2.1.6,>=2.0.1 in c:\\program files (x86)\\microsoft visual studio\\shared\\python37_64\\lib\\site-packages (from matplotlib==3.1.1->-r requirements.txt (line 1)) (2.4.2)\n",
      "Requirement already satisfied: pytz>=2017.2 in c:\\users\\ricca\\appdata\\roaming\\python\\python37\\site-packages (from pandas==1.0.5->-r requirements.txt (line 3)) (2020.1)\n",
      "Requirement already satisfied: threadpoolctl>=2.0.0 in c:\\program files (x86)\\microsoft visual studio\\shared\\python37_64\\lib\\site-packages (from scikit-learn==0.23.1->-r requirements.txt (line 4)) (2.1.0)\n",
      "Requirement already satisfied: joblib>=0.11 in c:\\program files (x86)\\microsoft visual studio\\shared\\python37_64\\lib\\site-packages (from scikit-learn==0.23.1->-r requirements.txt (line 4)) (0.15.1)\n",
      "Requirement already satisfied: scipy>=0.19.1 in c:\\program files (x86)\\microsoft visual studio\\shared\\python37_64\\lib\\site-packages (from scikit-learn==0.23.1->-r requirements.txt (line 4)) (1.4.1)\n",
      "Requirement already satisfied: opt-einsum>=2.3.2 in c:\\program files (x86)\\microsoft visual studio\\shared\\python37_64\\lib\\site-packages (from tensorflow==2.2.0->-r requirements.txt (line 5)) (3.1.0)\n",
      "Requirement already satisfied: tensorflow-estimator<2.3.0,>=2.2.0 in c:\\program files (x86)\\microsoft visual studio\\shared\\python37_64\\lib\\site-packages (from tensorflow==2.2.0->-r requirements.txt (line 5)) (2.2.0)\n",
      "Requirement already satisfied: grpcio>=1.8.6 in c:\\program files (x86)\\microsoft visual studio\\shared\\python37_64\\lib\\site-packages (from tensorflow==2.2.0->-r requirements.txt (line 5)) (1.24.1)\n",
      "Requirement already satisfied: google-pasta>=0.1.8 in c:\\program files (x86)\\microsoft visual studio\\shared\\python37_64\\lib\\site-packages (from tensorflow==2.2.0->-r requirements.txt (line 5)) (0.2.0)\n",
      "Requirement already satisfied: wheel>=0.26; python_version >= \"3\" in c:\\program files (x86)\\microsoft visual studio\\shared\\python37_64\\lib\\site-packages (from tensorflow==2.2.0->-r requirements.txt (line 5)) (0.33.6)\n",
      "Requirement already satisfied: protobuf>=3.8.0 in c:\\program files (x86)\\microsoft visual studio\\shared\\python37_64\\lib\\site-packages (from tensorflow==2.2.0->-r requirements.txt (line 5)) (3.10.0)\n",
      "Requirement already satisfied: six>=1.12.0 in c:\\program files (x86)\\microsoft visual studio\\shared\\python37_64\\lib\\site-packages (from tensorflow==2.2.0->-r requirements.txt (line 5)) (1.12.0)\n",
      "Requirement already satisfied: tensorboard<2.3.0,>=2.2.0 in c:\\program files (x86)\\microsoft visual studio\\shared\\python37_64\\lib\\site-packages (from tensorflow==2.2.0->-r requirements.txt (line 5)) (2.2.2)\n",
      "Requirement already satisfied: astunparse==1.6.3 in c:\\program files (x86)\\microsoft visual studio\\shared\\python37_64\\lib\\site-packages (from tensorflow==2.2.0->-r requirements.txt (line 5)) (1.6.3)\n",
      "Requirement already satisfied: absl-py>=0.7.0 in c:\\program files (x86)\\microsoft visual studio\\shared\\python37_64\\lib\\site-packages (from tensorflow==2.2.0->-r requirements.txt (line 5)) (0.8.1)\n",
      "Requirement already satisfied: termcolor>=1.1.0 in c:\\program files (x86)\\microsoft visual studio\\shared\\python37_64\\lib\\site-packages (from tensorflow==2.2.0->-r requirements.txt (line 5)) (1.1.0)\n",
      "Requirement already satisfied: gast==0.3.3 in c:\\program files (x86)\\microsoft visual studio\\shared\\python37_64\\lib\\site-packages (from tensorflow==2.2.0->-r requirements.txt (line 5)) (0.3.3)\n",
      "Requirement already satisfied: h5py<2.11.0,>=2.10.0 in c:\\program files (x86)\\microsoft visual studio\\shared\\python37_64\\lib\\site-packages (from tensorflow==2.2.0->-r requirements.txt (line 5)) (2.10.0)\n",
      "Requirement already satisfied: wrapt>=1.11.1 in c:\\program files (x86)\\microsoft visual studio\\shared\\python37_64\\lib\\site-packages (from tensorflow==2.2.0->-r requirements.txt (line 5)) (1.11.2)\n",
      "Requirement already satisfied: keras-preprocessing>=1.1.0 in c:\\program files (x86)\\microsoft visual studio\\shared\\python37_64\\lib\\site-packages (from tensorflow==2.2.0->-r requirements.txt (line 5)) (1.1.2)\n",
      "Requirement already satisfied: setuptools in c:\\program files (x86)\\microsoft visual studio\\shared\\python37_64\\lib\\site-packages (from kiwisolver>=1.0.1->matplotlib==3.1.1->-r requirements.txt (line 1)) (41.4.0)\n",
      "Requirement already satisfied: google-auth<2,>=1.6.3 in c:\\program files (x86)\\microsoft visual studio\\shared\\python37_64\\lib\\site-packages (from tensorboard<2.3.0,>=2.2.0->tensorflow==2.2.0->-r requirements.txt (line 5)) (1.16.1)\n",
      "Requirement already satisfied: markdown>=2.6.8 in c:\\program files (x86)\\microsoft visual studio\\shared\\python37_64\\lib\\site-packages (from tensorboard<2.3.0,>=2.2.0->tensorflow==2.2.0->-r requirements.txt (line 5)) (3.1.1)\n",
      "Requirement already satisfied: requests<3,>=2.21.0 in c:\\program files (x86)\\microsoft visual studio\\shared\\python37_64\\lib\\site-packages (from tensorboard<2.3.0,>=2.2.0->tensorflow==2.2.0->-r requirements.txt (line 5)) (2.23.0)\n",
      "Requirement already satisfied: tensorboard-plugin-wit>=1.6.0 in c:\\program files (x86)\\microsoft visual studio\\shared\\python37_64\\lib\\site-packages (from tensorboard<2.3.0,>=2.2.0->tensorflow==2.2.0->-r requirements.txt (line 5)) (1.6.0.post3)\n",
      "Requirement already satisfied: werkzeug>=0.11.15 in c:\\program files (x86)\\microsoft visual studio\\shared\\python37_64\\lib\\site-packages (from tensorboard<2.3.0,>=2.2.0->tensorflow==2.2.0->-r requirements.txt (line 5)) (0.16.0)\n",
      "Requirement already satisfied: google-auth-oauthlib<0.5,>=0.4.1 in c:\\program files (x86)\\microsoft visual studio\\shared\\python37_64\\lib\\site-packages (from tensorboard<2.3.0,>=2.2.0->tensorflow==2.2.0->-r requirements.txt (line 5)) (0.4.1)\n",
      "Requirement already satisfied: cachetools<5.0,>=2.0.0 in c:\\program files (x86)\\microsoft visual studio\\shared\\python37_64\\lib\\site-packages (from google-auth<2,>=1.6.3->tensorboard<2.3.0,>=2.2.0->tensorflow==2.2.0->-r requirements.txt (line 5)) (4.1.0)\n",
      "Requirement already satisfied: pyasn1-modules>=0.2.1 in c:\\program files (x86)\\microsoft visual studio\\shared\\python37_64\\lib\\site-packages (from google-auth<2,>=1.6.3->tensorboard<2.3.0,>=2.2.0->tensorflow==2.2.0->-r requirements.txt (line 5)) (0.2.8)\n",
      "Requirement already satisfied: rsa<4.1,>=3.1.4 in c:\\program files (x86)\\microsoft visual studio\\shared\\python37_64\\lib\\site-packages (from google-auth<2,>=1.6.3->tensorboard<2.3.0,>=2.2.0->tensorflow==2.2.0->-r requirements.txt (line 5)) (4.0)\n",
      "Requirement already satisfied: certifi>=2017.4.17 in c:\\program files (x86)\\microsoft visual studio\\shared\\python37_64\\lib\\site-packages (from requests<3,>=2.21.0->tensorboard<2.3.0,>=2.2.0->tensorflow==2.2.0->-r requirements.txt (line 5)) (2020.4.5.1)\n",
      "Requirement already satisfied: chardet<4,>=3.0.2 in c:\\program files (x86)\\microsoft visual studio\\shared\\python37_64\\lib\\site-packages (from requests<3,>=2.21.0->tensorboard<2.3.0,>=2.2.0->tensorflow==2.2.0->-r requirements.txt (line 5)) (3.0.4)\n",
      "Requirement already satisfied: urllib3!=1.25.0,!=1.25.1,<1.26,>=1.21.1 in c:\\program files (x86)\\microsoft visual studio\\shared\\python37_64\\lib\\site-packages (from requests<3,>=2.21.0->tensorboard<2.3.0,>=2.2.0->tensorflow==2.2.0->-r requirements.txt (line 5)) (1.25.9)\n",
      "Requirement already satisfied: idna<3,>=2.5 in c:\\program files (x86)\\microsoft visual studio\\shared\\python37_64\\lib\\site-packages (from requests<3,>=2.21.0->tensorboard<2.3.0,>=2.2.0->tensorflow==2.2.0->-r requirements.txt (line 5)) (2.9)\n",
      "Requirement already satisfied: requests-oauthlib>=0.7.0 in c:\\program files (x86)\\microsoft visual studio\\shared\\python37_64\\lib\\site-packages (from google-auth-oauthlib<0.5,>=0.4.1->tensorboard<2.3.0,>=2.2.0->tensorflow==2.2.0->-r requirements.txt (line 5)) (1.3.0)\n",
      "Requirement already satisfied: pyasn1<0.5.0,>=0.4.6 in c:\\program files (x86)\\microsoft visual studio\\shared\\python37_64\\lib\\site-packages (from pyasn1-modules>=0.2.1->google-auth<2,>=1.6.3->tensorboard<2.3.0,>=2.2.0->tensorflow==2.2.0->-r requirements.txt (line 5)) (0.4.8)\n",
      "Requirement already satisfied: oauthlib>=3.0.0 in c:\\program files (x86)\\microsoft visual studio\\shared\\python37_64\\lib\\site-packages (from requests-oauthlib>=0.7.0->google-auth-oauthlib<0.5,>=0.4.1->tensorboard<2.3.0,>=2.2.0->tensorflow==2.2.0->-r requirements.txt (line 5)) (3.1.0)\n"
     ]
    }
   ],
   "source": [
    "!pip install --user -r requirements.txt"
   ]
  },
  {
   "cell_type": "code",
   "execution_count": 2,
   "metadata": {},
   "outputs": [],
   "source": [
    "import pandas as pd\n",
    "import numpy as np\n",
    "import sklearn as sl\n",
    "import seaborn as sns\n",
    "import matplotlib.pyplot as plt\n",
    "\n",
    "from sklearn.metrics import confusion_matrix, plot_confusion_matrix, accuracy_score\n",
    "from sklearn.preprocessing import LabelEncoder, MinMaxScaler, StandardScaler, OrdinalEncoder\n",
    "from sklearn.pipeline import Pipeline\n",
    "from sklearn.compose import ColumnTransformer\n",
    "from sklearn.impute import SimpleImputer\n",
    "from sklearn.ensemble import RandomForestClassifier\n",
    "from sklearn.model_selection import cross_val_score"
   ]
  },
  {
   "cell_type": "markdown",
   "metadata": {},
   "source": [
    "## Caricamento dei dataset"
   ]
  },
  {
   "cell_type": "markdown",
   "metadata": {},
   "source": [
    "Ora procediamo con il caricamento dei dataset creati nel primo file di questo progetto."
   ]
  },
  {
   "cell_type": "code",
   "execution_count": 3,
   "metadata": {},
   "outputs": [],
   "source": [
    "url_train = 'train.csv'\n",
    "url_test = 'test.csv'\n",
    "\n",
    "train_data = pd.read_csv(url_train)\n",
    "test_data =pd.read_csv(url_test)"
   ]
  },
  {
   "cell_type": "markdown",
   "metadata": {},
   "source": [
    "Verifichiamo che i dataset siano stati importati in modo corretto."
   ]
  },
  {
   "cell_type": "code",
   "execution_count": 4,
   "metadata": {},
   "outputs": [],
   "source": [
    "if train_data.empty or test_data.empty:\n",
    "    raise(\"I dataset non sono stati caricati correttamente.\")"
   ]
  },
  {
   "cell_type": "markdown",
   "metadata": {},
   "source": [
    "## Rimozione delle righe con valori nulli"
   ]
  },
  {
   "cell_type": "markdown",
   "metadata": {},
   "source": [
    "Procediamo ora con il cercare se ci sono righe nulle sia sul dataset di train che su quello di test. Tali righe saranno considerate non valide e dovranno, pertanto, essere rimosse dal dataset per evitare possibili errori durante l'addestramento.\n",
    "\n",
    "I simboli che in genere vengono utilizzati per intendere le righe nulle sono: \"\", \" \", \"_\", \"-\", \"?\", \"nan\", \"na\", \"NaN\"."
   ]
  },
  {
   "cell_type": "markdown",
   "metadata": {},
   "source": [
    "Come prima operazione ceschiamo di trovare i valori nulli nei vari dataset:"
   ]
  },
  {
   "cell_type": "code",
   "execution_count": 5,
   "metadata": {},
   "outputs": [],
   "source": [
    "# Sostituisco ad ogni stringa vuola il valore 'NaN' nel dataset di train\n",
    "train_data.replace(\"\", np.nan, inplace=True)\n",
    "train_data.replace(\" \", np.nan, inplace=True)\n",
    "train_data.replace(\"_\", np.nan, inplace=True)\n",
    "train_data.replace(\"-\", np.nan, inplace=True)\n",
    "train_data.replace(\"?\", np.nan, inplace=True)\n",
    "train_data.replace(\"nan\", np.nan, inplace=True)\n",
    "train_data.replace(\"na\", np.nan, inplace=True)\n",
    "train_data.replace(\"NaN\", np.nan, inplace=True)\n",
    "\n",
    "# Sostituisco ad ogni stringa vuola il valore 'NaN' nel dataset di test\n",
    "test_data.replace(\"\", np.nan, inplace=True)\n",
    "test_data.replace(\" \", np.nan, inplace=True)\n",
    "test_data.replace(\"_\", np.nan, inplace=True)\n",
    "test_data.replace(\"-\", np.nan, inplace=True)\n",
    "test_data.replace(\"?\", np.nan, inplace=True)\n",
    "test_data.replace(\"nan\", np.nan, inplace=True)\n",
    "test_data.replace(\"na\", np.nan, inplace=True)\n",
    "test_data.replace(\"NaN\", np.nan, inplace=True)"
   ]
  },
  {
   "cell_type": "code",
   "execution_count": 6,
   "metadata": {},
   "outputs": [
    {
     "data": {
      "text/plain": [
       "DEATH_EVENT                 0\n",
       "age                         0\n",
       "anaemia                     0\n",
       "creatinine_phosphokinase    0\n",
       "diabetes                    0\n",
       "ejection_fraction           0\n",
       "high_blood_pressure         0\n",
       "platelets                   0\n",
       "serum_creatinine            0\n",
       "serum_sodium                0\n",
       "sex                         0\n",
       "smoking                     0\n",
       "time                        0\n",
       "dtype: int64"
      ]
     },
     "execution_count": 6,
     "metadata": {},
     "output_type": "execute_result"
    }
   ],
   "source": [
    "# Controllo dei dati non validi (NaN) nel dataset di train\n",
    "train_data.isna().sum()"
   ]
  },
  {
   "cell_type": "code",
   "execution_count": 7,
   "metadata": {
    "scrolled": true
   },
   "outputs": [
    {
     "data": {
      "text/plain": [
       "DEATH_EVENT                 0\n",
       "age                         0\n",
       "anaemia                     0\n",
       "creatinine_phosphokinase    0\n",
       "diabetes                    0\n",
       "ejection_fraction           0\n",
       "high_blood_pressure         0\n",
       "platelets                   0\n",
       "serum_creatinine            0\n",
       "serum_sodium                0\n",
       "sex                         0\n",
       "smoking                     0\n",
       "time                        0\n",
       "dtype: int64"
      ]
     },
     "execution_count": 7,
     "metadata": {},
     "output_type": "execute_result"
    }
   ],
   "source": [
    "# Controllo dei dati non validi (NaN) nel dataset di test\n",
    "test_data.isna().sum()"
   ]
  },
  {
   "cell_type": "markdown",
   "metadata": {},
   "source": [
    "Nel caso in cui risultasse esserci dei valori nulli allora procediamo con la rimozione."
   ]
  },
  {
   "cell_type": "code",
   "execution_count": 8,
   "metadata": {},
   "outputs": [],
   "source": [
    "# Procediamo con l'eliminazione dei dati non validi (NaN)\n",
    "test_data.dropna(inplace=True)\n",
    "train_data.dropna(inplace=True)"
   ]
  },
  {
   "cell_type": "markdown",
   "metadata": {},
   "source": [
    "Controlliamo che tutti i valori nulli siano stati rimossi correttamente."
   ]
  },
  {
   "cell_type": "code",
   "execution_count": 9,
   "metadata": {
    "scrolled": true
   },
   "outputs": [
    {
     "data": {
      "text/plain": [
       "DEATH_EVENT                 0\n",
       "age                         0\n",
       "anaemia                     0\n",
       "creatinine_phosphokinase    0\n",
       "diabetes                    0\n",
       "ejection_fraction           0\n",
       "high_blood_pressure         0\n",
       "platelets                   0\n",
       "serum_creatinine            0\n",
       "serum_sodium                0\n",
       "sex                         0\n",
       "smoking                     0\n",
       "time                        0\n",
       "dtype: int64"
      ]
     },
     "execution_count": 9,
     "metadata": {},
     "output_type": "execute_result"
    }
   ],
   "source": [
    "# Controllo dei dati non validi (NaN) nel dataset di train\n",
    "train_data.isna().sum()"
   ]
  },
  {
   "cell_type": "code",
   "execution_count": 10,
   "metadata": {},
   "outputs": [
    {
     "data": {
      "text/plain": [
       "DEATH_EVENT                 0\n",
       "age                         0\n",
       "anaemia                     0\n",
       "creatinine_phosphokinase    0\n",
       "diabetes                    0\n",
       "ejection_fraction           0\n",
       "high_blood_pressure         0\n",
       "platelets                   0\n",
       "serum_creatinine            0\n",
       "serum_sodium                0\n",
       "sex                         0\n",
       "smoking                     0\n",
       "time                        0\n",
       "dtype: int64"
      ]
     },
     "execution_count": 10,
     "metadata": {},
     "output_type": "execute_result"
    }
   ],
   "source": [
    "# Controllo dei dati non validi (NaN) nel dataset di test\n",
    "test_data.isna().sum()"
   ]
  },
  {
   "cell_type": "markdown",
   "metadata": {},
   "source": [
    "## Analisi del dataset di train"
   ]
  },
  {
   "cell_type": "markdown",
   "metadata": {},
   "source": [
    "Ora analizziamo il dataset di train per avere maggiori informazioni per addestrare il modello"
   ]
  },
  {
   "cell_type": "code",
   "execution_count": 11,
   "metadata": {},
   "outputs": [
    {
     "name": "stdout",
     "output_type": "stream",
     "text": [
      "Shape: (191, 13)\n",
      "Numero di righe (campioni): 191\n",
      "Numero di colonne: 13\n"
     ]
    }
   ],
   "source": [
    "# Numero di righe e colonne nel dataset\n",
    "print(f\"Shape: {train_data.shape}\")\n",
    "print(f\"Numero di righe (campioni): {train_data.shape[0]}\")\n",
    "print(f\"Numero di colonne: {train_data.shape[1]}\")"
   ]
  },
  {
   "cell_type": "markdown",
   "metadata": {},
   "source": [
    "Osserviamo il tipo di ogni colonna."
   ]
  },
  {
   "cell_type": "code",
   "execution_count": 12,
   "metadata": {},
   "outputs": [
    {
     "data": {
      "text/plain": [
       "DEATH_EVENT                   int64\n",
       "age                         float64\n",
       "anaemia                       int64\n",
       "creatinine_phosphokinase      int64\n",
       "diabetes                      int64\n",
       "ejection_fraction             int64\n",
       "high_blood_pressure           int64\n",
       "platelets                   float64\n",
       "serum_creatinine            float64\n",
       "serum_sodium                  int64\n",
       "sex                           int64\n",
       "smoking                       int64\n",
       "time                          int64\n",
       "dtype: object"
      ]
     },
     "execution_count": 12,
     "metadata": {},
     "output_type": "execute_result"
    }
   ],
   "source": [
    "train_data.dtypes"
   ]
  },
  {
   "cell_type": "markdown",
   "metadata": {},
   "source": [
    "Stampiamo i valori unici di ogni colonna."
   ]
  },
  {
   "cell_type": "code",
   "execution_count": 13,
   "metadata": {},
   "outputs": [
    {
     "name": "stdout",
     "output_type": "stream",
     "text": [
      "DEATH_EVENT :  [0 1]\n",
      "\n",
      "age :  [40.    42.    44.    45.    46.    48.    49.    50.    51.    52.\n",
      " 53.    54.    55.    57.    58.    59.    60.    60.667 61.    62.\n",
      " 63.    64.    65.    66.    67.    68.    69.    70.    72.    73.\n",
      " 75.    78.    79.    80.    81.    82.    85.    86.    87.    90.\n",
      " 95.   ]\n",
      "\n",
      "anaemia :  [0 1]\n",
      "\n",
      "creatinine_phosphokinase :  [  23   30   47   54   55   56   58   59   60   61   62   63   64   66\n",
      "   68   69   70   72   75   78   80   81   84   86   88   90   91   93\n",
      "   94   95   97   99  101  102  103  109  110  111  112  113  115  124\n",
      "  125  127  128  129  132  135  144  146  149  151  157  160  161  166\n",
      "  167  168  170  171  185  190  191  193  196  203  211  213  220  224\n",
      "  231  232  233  235  245  246  248  249  257  258  260  281  305  308\n",
      "  318  326  328  336  369  371  379  400  427  446  478  482  514  553\n",
      "  572  577  582  588  618  646  655  675  707  719  720  737  748  754\n",
      "  776  789  835  855  897  898  910  981 1021 1082 1185 1202 1211 1419\n",
      " 1548 1688 1767 1808 1820 1846 1876 2017 2060 2261 2281 2334 2413 2522\n",
      " 2794 3964 3966 4540 5209 5882]\n",
      "\n",
      "diabetes :  [0 1]\n",
      "\n",
      "ejection_fraction :  [15 17 20 25 30 35 38 40 45 50 55 60 62 70]\n",
      "\n",
      "high_blood_pressure :  [0 1]\n",
      "\n",
      "platelets :  [ 47000.    62000.    70000.    73000.    75000.    87000.   105000.\n",
      " 122000.   127000.   132000.   136000.   140000.   141000.   147000.\n",
      " 149000.   150000.   151000.   153000.   155000.   160000.   162000.\n",
      " 164000.   166000.   172000.   173000.   176000.   179000.   181000.\n",
      " 184000.   185000.   188000.   192000.   194000.   196000.   198000.\n",
      " 200000.   201000.   203000.   208000.   210000.   211000.   212000.\n",
      " 215000.   216000.   218000.   220000.   221000.   222000.   223000.\n",
      " 224000.   225000.   226000.   228000.   229000.   231000.   233000.\n",
      " 235000.   236000.   237000.   242000.   243000.   244000.   249000.\n",
      " 250000.   252000.   253000.   254000.   255000.   257000.   262000.\n",
      " 263000.   263358.03 265000.   266000.   267000.   270000.   271000.\n",
      " 274000.   276000.   277000.   279000.   282000.   283000.   289000.\n",
      " 290000.   293000.   294000.   295000.   297000.   298000.   302000.\n",
      " 303000.   304000.   305000.   306000.   309000.   314000.   319000.\n",
      " 321000.   324000.   325000.   327000.   328000.   329000.   330000.\n",
      " 334000.   336000.   337000.   351000.   358000.   360000.   362000.\n",
      " 365000.   368000.   377000.   382000.   395000.   404000.   406000.\n",
      " 418000.   427000.   448000.   451000.   461000.   481000.   497000.\n",
      " 504000.   507000.   533000.   543000.   621000.   742000.  ]\n",
      "\n",
      "serum_creatinine :  [0.5  0.6  0.7  0.8  0.9  1.   1.1  1.18 1.2  1.3  1.4  1.5  1.6  1.7\n",
      " 1.8  1.83 1.9  2.   2.1  2.2  2.3  2.4  2.5  2.7  3.   3.2  3.5  3.8\n",
      " 4.   4.4  5.   5.8  6.1  6.8  9.  ]\n",
      "\n",
      "serum_sodium :  [113 116 121 124 125 126 127 128 129 130 131 132 133 134 135 136 137 138\n",
      " 139 140 141 142 143 144 145 146]\n",
      "\n",
      "sex :  [0 1]\n",
      "\n",
      "smoking :  [0 1]\n",
      "\n",
      "time :  [  4   7   8  10  11  12  13  14  15  20  22  24  26  28  29  30  32  33\n",
      "  40  41  43  44  45  50  54  55  60  65  66  67  71  72  73  74  75  76\n",
      "  78  79  80  83  86  87  88  90  91  94  95 100 104 106 107 108 109 110\n",
      " 112 113 115 117 118 119 120 121 123 126 130 134 135 140 146 147 148 162\n",
      " 172 174 180 185 186 187 192 194 195 196 197 198 201 205 206 207 208 209\n",
      " 210 212 213 214 215 216 220 230 233 235 237 244 245 246 250 258 270 271\n",
      " 278 280 285]\n",
      "\n"
     ]
    }
   ],
   "source": [
    "# Stampa di tutti i valori unici di ogni colonna\n",
    "for val in train_data:\n",
    "    print(val, ': ', np.sort(train_data[val].unique()))\n",
    "    print()"
   ]
  },
  {
   "cell_type": "markdown",
   "metadata": {},
   "source": [
    "Stampa delle ricorrenze dei valori di ogni colonna."
   ]
  },
  {
   "cell_type": "code",
   "execution_count": 14,
   "metadata": {},
   "outputs": [
    {
     "name": "stdout",
     "output_type": "stream",
     "text": [
      "0    134\n",
      "1     57\n",
      "Name: DEATH_EVENT, dtype: int64\n",
      "\n",
      "50.000    19\n",
      "60.000    16\n",
      "65.000    16\n",
      "70.000    14\n",
      "55.000    12\n",
      "75.000     9\n",
      "45.000     9\n",
      "53.000     7\n",
      "63.000     6\n",
      "58.000     6\n",
      "72.000     5\n",
      "68.000     5\n",
      "40.000     5\n",
      "85.000     5\n",
      "62.000     5\n",
      "52.000     4\n",
      "73.000     4\n",
      "61.000     4\n",
      "69.000     3\n",
      "80.000     3\n",
      "49.000     3\n",
      "42.000     3\n",
      "82.000     3\n",
      "46.000     2\n",
      "78.000     2\n",
      "95.000     2\n",
      "59.000     2\n",
      "67.000     2\n",
      "44.000     2\n",
      "51.000     2\n",
      "90.000     1\n",
      "57.000     1\n",
      "64.000     1\n",
      "66.000     1\n",
      "86.000     1\n",
      "54.000     1\n",
      "87.000     1\n",
      "48.000     1\n",
      "79.000     1\n",
      "81.000     1\n",
      "60.667     1\n",
      "Name: age, dtype: int64\n",
      "\n",
      "0    106\n",
      "1     85\n",
      "Name: anaemia, dtype: int64\n",
      "\n",
      "582     27\n",
      "66       4\n",
      "69       3\n",
      "129      3\n",
      "84       3\n",
      "        ..\n",
      "171      1\n",
      "1548     1\n",
      "1202     1\n",
      "70       1\n",
      "257      1\n",
      "Name: creatinine_phosphokinase, Length: 146, dtype: int64\n",
      "\n",
      "0    113\n",
      "1     78\n",
      "Name: diabetes, dtype: int64\n",
      "\n",
      "35    30\n",
      "40    27\n",
      "38    26\n",
      "30    23\n",
      "60    20\n",
      "25    19\n",
      "45    15\n",
      "50    13\n",
      "20    11\n",
      "62     2\n",
      "55     2\n",
      "70     1\n",
      "17     1\n",
      "15     1\n",
      "Name: ejection_fraction, dtype: int64\n",
      "\n",
      "0    119\n",
      "1     72\n",
      "Name: high_blood_pressure, dtype: int64\n",
      "\n",
      "263358.03    13\n",
      "226000.00     4\n",
      "327000.00     3\n",
      "283000.00     3\n",
      "235000.00     3\n",
      "             ..\n",
      "303000.00     1\n",
      "87000.00      1\n",
      "155000.00     1\n",
      "200000.00     1\n",
      "192000.00     1\n",
      "Name: platelets, Length: 132, dtype: int64\n",
      "\n",
      "1.00    38\n",
      "0.90    23\n",
      "1.10    21\n",
      "1.20    15\n",
      "0.80    11\n",
      "0.70    11\n",
      "1.30    11\n",
      "1.18     8\n",
      "1.40     8\n",
      "1.70     4\n",
      "1.60     4\n",
      "1.83     4\n",
      "1.90     3\n",
      "1.80     2\n",
      "1.50     2\n",
      "2.10     2\n",
      "3.00     2\n",
      "3.50     2\n",
      "2.50     2\n",
      "2.70     2\n",
      "0.60     2\n",
      "0.50     1\n",
      "5.00     1\n",
      "9.00     1\n",
      "2.00     1\n",
      "3.20     1\n",
      "4.00     1\n",
      "5.80     1\n",
      "6.10     1\n",
      "2.40     1\n",
      "2.30     1\n",
      "3.80     1\n",
      "4.40     1\n",
      "6.80     1\n",
      "2.20     1\n",
      "Name: serum_creatinine, dtype: int64\n",
      "\n",
      "137    23\n",
      "136    22\n",
      "134    22\n",
      "140    20\n",
      "138    19\n",
      "139    14\n",
      "132    11\n",
      "135     9\n",
      "141     9\n",
      "142     8\n",
      "133     7\n",
      "131     4\n",
      "130     4\n",
      "145     3\n",
      "143     2\n",
      "144     2\n",
      "129     2\n",
      "128     2\n",
      "124     1\n",
      "116     1\n",
      "121     1\n",
      "146     1\n",
      "125     1\n",
      "126     1\n",
      "127     1\n",
      "113     1\n",
      "Name: serum_sodium, dtype: int64\n",
      "\n",
      "1    124\n",
      "0     67\n",
      "Name: sex, dtype: int64\n",
      "\n",
      "0    131\n",
      "1     60\n",
      "Name: smoking, dtype: int64\n",
      "\n",
      "107    6\n",
      "186    5\n",
      "79     5\n",
      "187    5\n",
      "250    5\n",
      "      ..\n",
      "130    1\n",
      "134    1\n",
      "135    1\n",
      "140    1\n",
      "258    1\n",
      "Name: time, Length: 111, dtype: int64\n",
      "\n"
     ]
    }
   ],
   "source": [
    "# Stampa del conto dei valori presenti in ogni colonna\n",
    "for val in train_data:\n",
    "    print(train_data[val].value_counts())\n",
    "    print()"
   ]
  },
  {
   "cell_type": "markdown",
   "metadata": {},
   "source": [
    "Vediamo ora un po' di statistiche dei valori contenuti nel dataset."
   ]
  },
  {
   "cell_type": "code",
   "execution_count": 15,
   "metadata": {},
   "outputs": [
    {
     "data": {
      "text/html": [
       "<div>\n",
       "<style scoped>\n",
       "    .dataframe tbody tr th:only-of-type {\n",
       "        vertical-align: middle;\n",
       "    }\n",
       "\n",
       "    .dataframe tbody tr th {\n",
       "        vertical-align: top;\n",
       "    }\n",
       "\n",
       "    .dataframe thead th {\n",
       "        text-align: right;\n",
       "    }\n",
       "</style>\n",
       "<table border=\"1\" class=\"dataframe\">\n",
       "  <thead>\n",
       "    <tr style=\"text-align: right;\">\n",
       "      <th></th>\n",
       "      <th>DEATH_EVENT</th>\n",
       "      <th>age</th>\n",
       "      <th>anaemia</th>\n",
       "      <th>creatinine_phosphokinase</th>\n",
       "      <th>diabetes</th>\n",
       "      <th>ejection_fraction</th>\n",
       "      <th>high_blood_pressure</th>\n",
       "      <th>platelets</th>\n",
       "      <th>serum_creatinine</th>\n",
       "      <th>serum_sodium</th>\n",
       "      <th>sex</th>\n",
       "      <th>smoking</th>\n",
       "      <th>time</th>\n",
       "    </tr>\n",
       "  </thead>\n",
       "  <tbody>\n",
       "    <tr>\n",
       "      <th>count</th>\n",
       "      <td>191.000000</td>\n",
       "      <td>191.000000</td>\n",
       "      <td>191.000000</td>\n",
       "      <td>191.000000</td>\n",
       "      <td>191.000000</td>\n",
       "      <td>191.000000</td>\n",
       "      <td>191.000000</td>\n",
       "      <td>191.000000</td>\n",
       "      <td>191.000000</td>\n",
       "      <td>191.000000</td>\n",
       "      <td>191.000000</td>\n",
       "      <td>191.000000</td>\n",
       "      <td>191.000000</td>\n",
       "    </tr>\n",
       "    <tr>\n",
       "      <th>mean</th>\n",
       "      <td>0.298429</td>\n",
       "      <td>61.595115</td>\n",
       "      <td>0.445026</td>\n",
       "      <td>588.267016</td>\n",
       "      <td>0.408377</td>\n",
       "      <td>38.554974</td>\n",
       "      <td>0.376963</td>\n",
       "      <td>263914.420890</td>\n",
       "      <td>1.415497</td>\n",
       "      <td>136.267016</td>\n",
       "      <td>0.649215</td>\n",
       "      <td>0.314136</td>\n",
       "      <td>131.701571</td>\n",
       "    </tr>\n",
       "    <tr>\n",
       "      <th>std</th>\n",
       "      <td>0.458771</td>\n",
       "      <td>11.909409</td>\n",
       "      <td>0.498275</td>\n",
       "      <td>882.443203</td>\n",
       "      <td>0.492825</td>\n",
       "      <td>11.373370</td>\n",
       "      <td>0.485899</td>\n",
       "      <td>98685.997481</td>\n",
       "      <td>1.071597</td>\n",
       "      <td>4.599418</td>\n",
       "      <td>0.478470</td>\n",
       "      <td>0.465391</td>\n",
       "      <td>79.028842</td>\n",
       "    </tr>\n",
       "    <tr>\n",
       "      <th>min</th>\n",
       "      <td>0.000000</td>\n",
       "      <td>40.000000</td>\n",
       "      <td>0.000000</td>\n",
       "      <td>23.000000</td>\n",
       "      <td>0.000000</td>\n",
       "      <td>15.000000</td>\n",
       "      <td>0.000000</td>\n",
       "      <td>47000.000000</td>\n",
       "      <td>0.500000</td>\n",
       "      <td>113.000000</td>\n",
       "      <td>0.000000</td>\n",
       "      <td>0.000000</td>\n",
       "      <td>4.000000</td>\n",
       "    </tr>\n",
       "    <tr>\n",
       "      <th>25%</th>\n",
       "      <td>0.000000</td>\n",
       "      <td>52.000000</td>\n",
       "      <td>0.000000</td>\n",
       "      <td>106.000000</td>\n",
       "      <td>0.000000</td>\n",
       "      <td>30.000000</td>\n",
       "      <td>0.000000</td>\n",
       "      <td>211500.000000</td>\n",
       "      <td>0.950000</td>\n",
       "      <td>134.000000</td>\n",
       "      <td>0.000000</td>\n",
       "      <td>0.000000</td>\n",
       "      <td>73.500000</td>\n",
       "    </tr>\n",
       "    <tr>\n",
       "      <th>50%</th>\n",
       "      <td>0.000000</td>\n",
       "      <td>60.667000</td>\n",
       "      <td>0.000000</td>\n",
       "      <td>248.000000</td>\n",
       "      <td>0.000000</td>\n",
       "      <td>38.000000</td>\n",
       "      <td>0.000000</td>\n",
       "      <td>257000.000000</td>\n",
       "      <td>1.100000</td>\n",
       "      <td>137.000000</td>\n",
       "      <td>1.000000</td>\n",
       "      <td>0.000000</td>\n",
       "      <td>117.000000</td>\n",
       "    </tr>\n",
       "    <tr>\n",
       "      <th>75%</th>\n",
       "      <td>1.000000</td>\n",
       "      <td>70.000000</td>\n",
       "      <td>1.000000</td>\n",
       "      <td>582.000000</td>\n",
       "      <td>1.000000</td>\n",
       "      <td>45.000000</td>\n",
       "      <td>1.000000</td>\n",
       "      <td>303500.000000</td>\n",
       "      <td>1.400000</td>\n",
       "      <td>139.000000</td>\n",
       "      <td>1.000000</td>\n",
       "      <td>1.000000</td>\n",
       "      <td>207.000000</td>\n",
       "    </tr>\n",
       "    <tr>\n",
       "      <th>max</th>\n",
       "      <td>1.000000</td>\n",
       "      <td>95.000000</td>\n",
       "      <td>1.000000</td>\n",
       "      <td>5882.000000</td>\n",
       "      <td>1.000000</td>\n",
       "      <td>70.000000</td>\n",
       "      <td>1.000000</td>\n",
       "      <td>742000.000000</td>\n",
       "      <td>9.000000</td>\n",
       "      <td>146.000000</td>\n",
       "      <td>1.000000</td>\n",
       "      <td>1.000000</td>\n",
       "      <td>285.000000</td>\n",
       "    </tr>\n",
       "  </tbody>\n",
       "</table>\n",
       "</div>"
      ],
      "text/plain": [
       "       DEATH_EVENT         age     anaemia  creatinine_phosphokinase  \\\n",
       "count   191.000000  191.000000  191.000000                191.000000   \n",
       "mean      0.298429   61.595115    0.445026                588.267016   \n",
       "std       0.458771   11.909409    0.498275                882.443203   \n",
       "min       0.000000   40.000000    0.000000                 23.000000   \n",
       "25%       0.000000   52.000000    0.000000                106.000000   \n",
       "50%       0.000000   60.667000    0.000000                248.000000   \n",
       "75%       1.000000   70.000000    1.000000                582.000000   \n",
       "max       1.000000   95.000000    1.000000               5882.000000   \n",
       "\n",
       "         diabetes  ejection_fraction  high_blood_pressure      platelets  \\\n",
       "count  191.000000         191.000000           191.000000     191.000000   \n",
       "mean     0.408377          38.554974             0.376963  263914.420890   \n",
       "std      0.492825          11.373370             0.485899   98685.997481   \n",
       "min      0.000000          15.000000             0.000000   47000.000000   \n",
       "25%      0.000000          30.000000             0.000000  211500.000000   \n",
       "50%      0.000000          38.000000             0.000000  257000.000000   \n",
       "75%      1.000000          45.000000             1.000000  303500.000000   \n",
       "max      1.000000          70.000000             1.000000  742000.000000   \n",
       "\n",
       "       serum_creatinine  serum_sodium         sex     smoking        time  \n",
       "count        191.000000    191.000000  191.000000  191.000000  191.000000  \n",
       "mean           1.415497    136.267016    0.649215    0.314136  131.701571  \n",
       "std            1.071597      4.599418    0.478470    0.465391   79.028842  \n",
       "min            0.500000    113.000000    0.000000    0.000000    4.000000  \n",
       "25%            0.950000    134.000000    0.000000    0.000000   73.500000  \n",
       "50%            1.100000    137.000000    1.000000    0.000000  117.000000  \n",
       "75%            1.400000    139.000000    1.000000    1.000000  207.000000  \n",
       "max            9.000000    146.000000    1.000000    1.000000  285.000000  "
      ]
     },
     "execution_count": 15,
     "metadata": {},
     "output_type": "execute_result"
    }
   ],
   "source": [
    "# Statistiche del dataset\n",
    "train_data.describe()"
   ]
  },
  {
   "cell_type": "markdown",
   "metadata": {},
   "source": [
    "Osserviamo le quantità di persone che, durante il periodo di osservazione, hanno avuto o meno un arresto cardiaco."
   ]
  },
  {
   "cell_type": "code",
   "execution_count": 16,
   "metadata": {},
   "outputs": [
    {
     "data": {
      "text/plain": [
       "0    134\n",
       "1     57\n",
       "Name: DEATH_EVENT, dtype: int64"
      ]
     },
     "execution_count": 16,
     "metadata": {},
     "output_type": "execute_result"
    }
   ],
   "source": [
    "# Numero delle persone che hanno avuto o meno\n",
    "# un arresto cardiaco (DEATH_EVENT) durante il periodo\n",
    "# di osservazione:\n",
    "# 0: NON hanno avuto un arresto cardiaco\n",
    "# 1: hanno avuto un arresto cardiaco\n",
    "train_data['DEATH_EVENT'].value_counts()"
   ]
  },
  {
   "cell_type": "code",
   "execution_count": 17,
   "metadata": {},
   "outputs": [
    {
     "data": {
      "text/plain": [
       "0    34\n",
       "1    14\n",
       "Name: DEATH_EVENT, dtype: int64"
      ]
     },
     "execution_count": 17,
     "metadata": {},
     "output_type": "execute_result"
    }
   ],
   "source": [
    "test_data['DEATH_EVENT'].value_counts()"
   ]
  },
  {
   "cell_type": "code",
   "execution_count": 18,
   "metadata": {
    "scrolled": true
   },
   "outputs": [
    {
     "data": {
      "text/plain": [
       "<matplotlib.axes._subplots.AxesSubplot at 0x1c5f0649ac8>"
      ]
     },
     "execution_count": 18,
     "metadata": {},
     "output_type": "execute_result"
    },
    {
     "data": {
      "image/png": "[encoded data removed]",
      "text/plain": [
       "<Figure size 432x288 with 1 Axes>"
      ]
     },
     "metadata": {
      "needs_background": "light"
     },
     "output_type": "display_data"
    }
   ],
   "source": [
    "# Diagramma del numero delle persone che hanno avuto o meno\n",
    "# un arresto cardiaco (DEATH_EVENT) durante il periodo\n",
    "# di osservazione:\n",
    "sns.countplot(train_data['DEATH_EVENT'])"
   ]
  },
  {
   "cell_type": "markdown",
   "metadata": {},
   "source": [
    "Ora invece mettiamo in relazione le features del dataset con la quantità di persone che sono state sotto osservazione."
   ]
  },
  {
   "cell_type": "code",
   "execution_count": 19,
   "metadata": {},
   "outputs": [],
   "source": [
    "cols = ['age', 'anaemia', 'creatinine_phosphokinase', 'diabetes', 'ejection_fraction',\n",
    "       'high_blood_pressure', 'platelets', 'serum_creatinine', 'serum_sodium', 'sex',\n",
    "       'smoking', 'time']"
   ]
  },
  {
   "cell_type": "code",
   "execution_count": 20,
   "metadata": {},
   "outputs": [
    {
     "name": "stdout",
     "output_type": "stream",
     "text": [
      "age     DEATH_EVENT\n",
      "40.000  0               5\n",
      "42.000  0               3\n",
      "44.000  0               2\n",
      "45.000  0               8\n",
      "        1               1\n",
      "46.000  0               1\n",
      "        1               1\n",
      "48.000  1               1\n",
      "49.000  0               2\n",
      "        1               1\n",
      "50.000  0              13\n",
      "        1               6\n",
      "51.000  0               2\n",
      "52.000  0               4\n",
      "53.000  0               6\n",
      "        1               1\n",
      "54.000  1               1\n",
      "55.000  0              11\n",
      "        1               1\n",
      "57.000  0               1\n",
      "58.000  0               5\n",
      "        1               1\n",
      "59.000  0               1\n",
      "        1               1\n",
      "60.000  0              10\n",
      "        1               6\n",
      "60.667  0               1\n",
      "61.000  0               4\n",
      "62.000  0               4\n",
      "        1               1\n",
      "63.000  0               6\n",
      "64.000  0               1\n",
      "65.000  0              10\n",
      "        1               6\n",
      "66.000  0               1\n",
      "67.000  0               2\n",
      "68.000  0               3\n",
      "        1               2\n",
      "69.000  0               1\n",
      "        1               2\n",
      "70.000  0              11\n",
      "        1               3\n",
      "72.000  0               2\n",
      "        1               3\n",
      "73.000  0               3\n",
      "        1               1\n",
      "75.000  0               4\n",
      "        1               5\n",
      "78.000  0               2\n",
      "79.000  0               1\n",
      "80.000  0               1\n",
      "        1               2\n",
      "81.000  0               1\n",
      "82.000  1               3\n",
      "85.000  0               2\n",
      "        1               3\n",
      "86.000  1               1\n",
      "87.000  1               1\n",
      "90.000  1               1\n",
      "95.000  1               2\n",
      "dtype: int64\n",
      "anaemia  DEATH_EVENT\n",
      "0        0              79\n",
      "         1              27\n",
      "1        0              55\n",
      "         1              30\n",
      "dtype: int64\n",
      "creatinine_phosphokinase  DEATH_EVENT\n",
      "23                        1              1\n",
      "30                        0              1\n",
      "47                        0              1\n",
      "54                        0              1\n",
      "55                        0              1\n",
      "                                        ..\n",
      "3964                      1              1\n",
      "3966                      0              1\n",
      "4540                      0              1\n",
      "5209                      0              1\n",
      "5882                      1              1\n",
      "Length: 152, dtype: int64\n",
      "diabetes  DEATH_EVENT\n",
      "0         0              78\n",
      "          1              35\n",
      "1         0              56\n",
      "          1              22\n",
      "dtype: int64\n",
      "ejection_fraction  DEATH_EVENT\n",
      "15                 1               1\n",
      "17                 1               1\n",
      "20                 0               1\n",
      "                   1              10\n",
      "25                 0              11\n",
      "                   1               8\n",
      "30                 0              15\n",
      "                   1               8\n",
      "35                 0              25\n",
      "                   1               5\n",
      "38                 0              16\n",
      "                   1              10\n",
      "40                 0              25\n",
      "                   1               2\n",
      "45                 0              13\n",
      "                   1               2\n",
      "50                 0               8\n",
      "                   1               5\n",
      "55                 0               1\n",
      "                   1               1\n",
      "60                 0              18\n",
      "                   1               2\n",
      "62                 0               1\n",
      "                   1               1\n",
      "70                 1               1\n",
      "dtype: int64\n",
      "high_blood_pressure  DEATH_EVENT\n",
      "0                    0              87\n",
      "                     1              32\n",
      "1                    0              47\n",
      "                     1              25\n",
      "dtype: int64\n",
      "platelets  DEATH_EVENT\n",
      "47000.0    1              1\n",
      "62000.0    1              1\n",
      "70000.0    1              1\n",
      "73000.0    0              1\n",
      "75000.0    1              1\n",
      "                         ..\n",
      "507000.0   0              1\n",
      "533000.0   0              1\n",
      "543000.0   0              1\n",
      "621000.0   1              1\n",
      "742000.0   0              1\n",
      "Length: 151, dtype: int64\n",
      "serum_creatinine  DEATH_EVENT\n",
      "0.50              0               1\n",
      "0.60              0               1\n",
      "                  1               1\n",
      "0.70              0              11\n",
      "0.80              0              11\n",
      "0.90              0              19\n",
      "                  1               4\n",
      "1.00              0              28\n",
      "                  1              10\n",
      "1.10              0              16\n",
      "                  1               5\n",
      "1.18              0               8\n",
      "1.20              0               9\n",
      "                  1               6\n",
      "1.30              0               8\n",
      "                  1               3\n",
      "1.40              0               6\n",
      "                  1               2\n",
      "1.50              0               2\n",
      "1.60              0               3\n",
      "                  1               1\n",
      "1.70              0               2\n",
      "                  1               2\n",
      "1.80              0               2\n",
      "1.83              1               4\n",
      "1.90              1               3\n",
      "2.00              1               1\n",
      "2.10              0               1\n",
      "                  1               1\n",
      "2.20              1               1\n",
      "2.30              1               1\n",
      "2.40              1               1\n",
      "2.50              1               2\n",
      "2.70              0               1\n",
      "                  1               1\n",
      "3.00              1               2\n",
      "3.20              0               1\n",
      "3.50              0               1\n",
      "                  1               1\n",
      "3.80              0               1\n",
      "4.00              1               1\n",
      "4.40              1               1\n",
      "5.00              0               1\n",
      "5.80              1               1\n",
      "6.10              0               1\n",
      "6.80              1               1\n",
      "9.00              1               1\n",
      "dtype: int64\n",
      "serum_sodium  DEATH_EVENT\n",
      "113           0               1\n",
      "116           1               1\n",
      "121           1               1\n",
      "124           1               1\n",
      "125           0               1\n",
      "126           0               1\n",
      "127           1               1\n",
      "128           0               1\n",
      "              1               1\n",
      "129           1               2\n",
      "130           0               3\n",
      "              1               1\n",
      "131           0               2\n",
      "              1               2\n",
      "132           0               5\n",
      "              1               6\n",
      "133           0               6\n",
      "              1               1\n",
      "134           0              12\n",
      "              1              10\n",
      "135           0               6\n",
      "              1               3\n",
      "136           0              18\n",
      "              1               4\n",
      "137           0              18\n",
      "              1               5\n",
      "138           0              14\n",
      "              1               5\n",
      "139           0              13\n",
      "              1               1\n",
      "140           0              14\n",
      "              1               6\n",
      "141           0               9\n",
      "142           0               4\n",
      "              1               4\n",
      "143           0               2\n",
      "144           0               2\n",
      "145           0               2\n",
      "              1               1\n",
      "146           1               1\n",
      "dtype: int64\n",
      "sex  DEATH_EVENT\n",
      "0    0              43\n",
      "     1              24\n",
      "1    0              91\n",
      "     1              33\n",
      "dtype: int64\n",
      "smoking  DEATH_EVENT\n",
      "0        0              88\n",
      "         1              43\n",
      "1        0              46\n",
      "         1              14\n",
      "dtype: int64\n",
      "time  DEATH_EVENT\n",
      "4     1              1\n",
      "7     1              2\n",
      "8     1              1\n",
      "10    1              3\n",
      "11    1              2\n",
      "                    ..\n",
      "270   0              2\n",
      "271   0              1\n",
      "278   0              1\n",
      "280   0              1\n",
      "285   0              1\n",
      "Length: 120, dtype: int64\n"
     ]
    }
   ],
   "source": [
    "# Alcune stampe che mettono in relazione le features\n",
    "# del dataset con le persone che si sono sottoposte al\n",
    "# periodo di osservazione\n",
    "\n",
    "for col in cols:\n",
    "    print(train_data.groupby([col, 'DEATH_EVENT']).size())"
   ]
  },
  {
   "cell_type": "code",
   "execution_count": 21,
   "metadata": {
    "scrolled": true
   },
   "outputs": [
    {
     "data": {
      "image/png": "[encoded data removed]",
      "text/plain": [
       "<Figure size 1152x1728 with 12 Axes>"
      ]
     },
     "metadata": {
      "needs_background": "light"
     },
     "output_type": "display_data"
    }
   ],
   "source": [
    "# Alcuni grafici che mettono in relazione le features\n",
    "# del dataset con le persone che si sono sottoposte al\n",
    "# periodo di osservazione\n",
    "\n",
    "cols = ['age', 'anaemia', 'creatinine_phosphokinase', 'diabetes', 'ejection_fraction',\n",
    "       'high_blood_pressure', 'platelets', 'serum_creatinine', 'serum_sodium', 'sex',\n",
    "       'smoking', 'time']\n",
    "\n",
    "n_rows = 6\n",
    "n_cols = 2\n",
    "\n",
    "fig, axs = plt.subplots(n_rows, n_cols, figsize=(n_cols*8, n_rows*4))\n",
    "i=0\n",
    "for r in range(n_rows):\n",
    "    for c in range(n_cols):\n",
    "        ax = axs[r][c]\n",
    "        sns.countplot(train_data[cols[i]], hue=train_data['DEATH_EVENT'], ax=ax)\n",
    "        ax.set_title(cols[i])\n",
    "        ax.legend(title='DEATH_EVENT', loc='upper right')\n",
    "        i+=1\n",
    "    \n",
    "plt.tight_layout()"
   ]
  },
  {
   "cell_type": "markdown",
   "metadata": {},
   "source": [
    "Attraverso i dati e i grafici appena mostrati è possibile fare le seguenti osservazioni:\n",
    "- age: all'aumentare dell'età aumenta la probabilità di avere un arresto cardiaco;\n",
    "- anaemia: i possessori di anemia hanno una maggiore possibilità di avere un attacco cardiaco, infatti risulta che circa il 35% dei pazienti con anemia hanno avuto un arresto cardiaco contro il 25% dei pazienti che non hanno anemia;\n",
    "- creatinine_phosphokinase: questo valore è ininfluente in quanto è importante considerare un intervallo e non un singolo valore. Ciò che può essere utile ai fini statistici è la considerazione dei valori alti che possono indicare la probabilità di un recente infarto (fonte: https://www.my-personaltrainer.it/fisiologia/creatinchinasi.html#116067);\n",
    "- diabetes: avere il diabete non comporta necessariamente un arresto cardiaco, infatti i dati che abbiamo a disposizione mostrano che solo circa il 28% dei pazienti osservati con il diabete hanno avuto un arresto cardiaco contro il 30% dei pazienti senza diabete;\n",
    "- ejection_fraction: i valori in percentuale di frazione di eiezione sono un dato utile per poter predirre la possibilità di avere un infarto; i valori normali per una persona sono compresi tra il 50% e il 65% (anche se il limite inferiore è molto vario), sotto questi valori si può manifestare uno scompenso cardiaco, in particolare tale diagnosi si può dividere in due gruppi (fonti: https://it.wikipedia.org/wiki/Frazione_di_eiezione e https://www.my-personaltrainer.it/salute-benessere/insufficienza-cardiaca-trattamento.html):\n",
    "    - compreso tra il 40 e il 49% dove lo scompenso è moderatamente ridotto\n",
    "    - inferiore al 40% dove le probabilità di avere un infarto diventano altissime\n",
    "- high_blood_pressure: il numero di arresti cardiaci in pazienti con pressione alta è maggiore rispetto agli altri, infatti si parla di una percentuale di 34% contro il 26%;\n",
    "- platelets: il valore normale di piastrine nel corpo si aggira tra le 150.000 e le 450.000 unità per microlitro di sangue; valori molto alti possono provocare trombosi (con la possibile conseguenza di arresto cardiaco) mentre un valore molto basso può provocare la morte per emorragia;\n",
    "- serum_creatinine: il valore della creatinina si usa per monitorare il corretto funzionamento di filtraggio dei reni; i valori normali variano tra un minimo di 0,6 e un massimo di 1,3 mg/dl; nel grafico si nota come all'aumentare di questo valore la maggior parte dei pazienti ha avuto un arresto cardiaco;\n",
    "- serum_sodium: livelli alti di sodio nel sangue possono portare a Ipernatriemia che in situazioni gravi può portare a confusione, spasmi muscolari, convulsioni, coma e morte. Al contrario, un basso livello di sodio ha molte cause, compresi l’insufficienza renale, l’insufficienza cardiaca;\n",
    "- sex: dai risultati si osserva che circa il 35% dei pazienti di sesso 0 e circa il 26% dei pazienti di sesso 1 hanno avuto un arresto cardiaco;\n",
    "- smoking: dai risultati si osserva che circa il 32% dei pazienti di che non fumano e circa il 23% dei pazienti che fumano hanno avuto un arresto cardiaco;\n",
    "- time: guardando il grafico si può osservare come all'aumentare del tempo di osservazione diminuiscono i casi di morte per arresto cardiaco."
   ]
  },
  {
   "cell_type": "markdown",
   "metadata": {},
   "source": [
    "Un'osservazione particolare deve essere fatta sui due picchi nei grafici delle features *creatinine_phosphokinase* e della *platelets* che, su un numero di dati così ridotto, non risultano avere una valenza significativa. Per poter dare importanza a questi due picchi sarebbe necessario confrontarli con un dataset con un numero di campioni maggiore."
   ]
  },
  {
   "cell_type": "markdown",
   "metadata": {},
   "source": [
    "## Aggiustamenti vari sul dataset"
   ]
  },
  {
   "cell_type": "markdown",
   "metadata": {},
   "source": [
    "Una correzione da dover fare al dataset è quello di trasformare la colonna age da float a int, in quanto non ha senso avere un'età con la virgola."
   ]
  },
  {
   "cell_type": "code",
   "execution_count": 22,
   "metadata": {},
   "outputs": [],
   "source": [
    "train_data['age'] = train_data['age'].astype('int64')\n",
    "test_data['age'] = test_data['age'].astype('int64')"
   ]
  },
  {
   "cell_type": "code",
   "execution_count": 23,
   "metadata": {},
   "outputs": [
    {
     "data": {
      "text/plain": [
       "DEATH_EVENT                   int64\n",
       "age                           int64\n",
       "anaemia                       int64\n",
       "creatinine_phosphokinase      int64\n",
       "diabetes                      int64\n",
       "ejection_fraction             int64\n",
       "high_blood_pressure           int64\n",
       "platelets                   float64\n",
       "serum_creatinine            float64\n",
       "serum_sodium                  int64\n",
       "sex                           int64\n",
       "smoking                       int64\n",
       "time                          int64\n",
       "dtype: object"
      ]
     },
     "execution_count": 23,
     "metadata": {},
     "output_type": "execute_result"
    }
   ],
   "source": [
    "train_data.dtypes"
   ]
  },
  {
   "cell_type": "code",
   "execution_count": 24,
   "metadata": {},
   "outputs": [
    {
     "data": {
      "text/html": [
       "<div>\n",
       "<style scoped>\n",
       "    .dataframe tbody tr th:only-of-type {\n",
       "        vertical-align: middle;\n",
       "    }\n",
       "\n",
       "    .dataframe tbody tr th {\n",
       "        vertical-align: top;\n",
       "    }\n",
       "\n",
       "    .dataframe thead th {\n",
       "        text-align: right;\n",
       "    }\n",
       "</style>\n",
       "<table border=\"1\" class=\"dataframe\">\n",
       "  <thead>\n",
       "    <tr style=\"text-align: right;\">\n",
       "      <th></th>\n",
       "      <th>DEATH_EVENT</th>\n",
       "      <th>age</th>\n",
       "      <th>anaemia</th>\n",
       "      <th>creatinine_phosphokinase</th>\n",
       "      <th>diabetes</th>\n",
       "      <th>ejection_fraction</th>\n",
       "      <th>high_blood_pressure</th>\n",
       "      <th>platelets</th>\n",
       "      <th>serum_creatinine</th>\n",
       "      <th>serum_sodium</th>\n",
       "      <th>sex</th>\n",
       "      <th>smoking</th>\n",
       "      <th>time</th>\n",
       "    </tr>\n",
       "  </thead>\n",
       "  <tbody>\n",
       "    <tr>\n",
       "      <th>0</th>\n",
       "      <td>0</td>\n",
       "      <td>58</td>\n",
       "      <td>1</td>\n",
       "      <td>400</td>\n",
       "      <td>0</td>\n",
       "      <td>40</td>\n",
       "      <td>0</td>\n",
       "      <td>164000.00</td>\n",
       "      <td>1.00</td>\n",
       "      <td>139</td>\n",
       "      <td>0</td>\n",
       "      <td>0</td>\n",
       "      <td>91</td>\n",
       "    </tr>\n",
       "    <tr>\n",
       "      <th>1</th>\n",
       "      <td>0</td>\n",
       "      <td>40</td>\n",
       "      <td>0</td>\n",
       "      <td>582</td>\n",
       "      <td>1</td>\n",
       "      <td>35</td>\n",
       "      <td>0</td>\n",
       "      <td>222000.00</td>\n",
       "      <td>1.00</td>\n",
       "      <td>132</td>\n",
       "      <td>1</td>\n",
       "      <td>0</td>\n",
       "      <td>244</td>\n",
       "    </tr>\n",
       "    <tr>\n",
       "      <th>2</th>\n",
       "      <td>1</td>\n",
       "      <td>72</td>\n",
       "      <td>1</td>\n",
       "      <td>328</td>\n",
       "      <td>0</td>\n",
       "      <td>30</td>\n",
       "      <td>1</td>\n",
       "      <td>621000.00</td>\n",
       "      <td>1.70</td>\n",
       "      <td>138</td>\n",
       "      <td>0</td>\n",
       "      <td>1</td>\n",
       "      <td>88</td>\n",
       "    </tr>\n",
       "    <tr>\n",
       "      <th>3</th>\n",
       "      <td>0</td>\n",
       "      <td>60</td>\n",
       "      <td>1</td>\n",
       "      <td>1082</td>\n",
       "      <td>1</td>\n",
       "      <td>45</td>\n",
       "      <td>0</td>\n",
       "      <td>250000.00</td>\n",
       "      <td>6.10</td>\n",
       "      <td>131</td>\n",
       "      <td>1</td>\n",
       "      <td>0</td>\n",
       "      <td>107</td>\n",
       "    </tr>\n",
       "    <tr>\n",
       "      <th>4</th>\n",
       "      <td>0</td>\n",
       "      <td>40</td>\n",
       "      <td>1</td>\n",
       "      <td>101</td>\n",
       "      <td>0</td>\n",
       "      <td>40</td>\n",
       "      <td>0</td>\n",
       "      <td>226000.00</td>\n",
       "      <td>0.80</td>\n",
       "      <td>141</td>\n",
       "      <td>0</td>\n",
       "      <td>0</td>\n",
       "      <td>187</td>\n",
       "    </tr>\n",
       "    <tr>\n",
       "      <th>5</th>\n",
       "      <td>0</td>\n",
       "      <td>50</td>\n",
       "      <td>0</td>\n",
       "      <td>2522</td>\n",
       "      <td>0</td>\n",
       "      <td>30</td>\n",
       "      <td>1</td>\n",
       "      <td>404000.00</td>\n",
       "      <td>0.50</td>\n",
       "      <td>139</td>\n",
       "      <td>0</td>\n",
       "      <td>0</td>\n",
       "      <td>214</td>\n",
       "    </tr>\n",
       "    <tr>\n",
       "      <th>6</th>\n",
       "      <td>1</td>\n",
       "      <td>50</td>\n",
       "      <td>0</td>\n",
       "      <td>124</td>\n",
       "      <td>1</td>\n",
       "      <td>30</td>\n",
       "      <td>1</td>\n",
       "      <td>153000.00</td>\n",
       "      <td>1.20</td>\n",
       "      <td>136</td>\n",
       "      <td>0</td>\n",
       "      <td>1</td>\n",
       "      <td>32</td>\n",
       "    </tr>\n",
       "    <tr>\n",
       "      <th>7</th>\n",
       "      <td>0</td>\n",
       "      <td>75</td>\n",
       "      <td>0</td>\n",
       "      <td>675</td>\n",
       "      <td>1</td>\n",
       "      <td>60</td>\n",
       "      <td>0</td>\n",
       "      <td>265000.00</td>\n",
       "      <td>1.40</td>\n",
       "      <td>125</td>\n",
       "      <td>0</td>\n",
       "      <td>0</td>\n",
       "      <td>205</td>\n",
       "    </tr>\n",
       "    <tr>\n",
       "      <th>8</th>\n",
       "      <td>0</td>\n",
       "      <td>42</td>\n",
       "      <td>1</td>\n",
       "      <td>86</td>\n",
       "      <td>0</td>\n",
       "      <td>35</td>\n",
       "      <td>0</td>\n",
       "      <td>365000.00</td>\n",
       "      <td>1.10</td>\n",
       "      <td>139</td>\n",
       "      <td>1</td>\n",
       "      <td>1</td>\n",
       "      <td>201</td>\n",
       "    </tr>\n",
       "    <tr>\n",
       "      <th>9</th>\n",
       "      <td>1</td>\n",
       "      <td>69</td>\n",
       "      <td>0</td>\n",
       "      <td>582</td>\n",
       "      <td>0</td>\n",
       "      <td>20</td>\n",
       "      <td>0</td>\n",
       "      <td>266000.00</td>\n",
       "      <td>1.20</td>\n",
       "      <td>134</td>\n",
       "      <td>1</td>\n",
       "      <td>1</td>\n",
       "      <td>73</td>\n",
       "    </tr>\n",
       "    <tr>\n",
       "      <th>10</th>\n",
       "      <td>0</td>\n",
       "      <td>67</td>\n",
       "      <td>0</td>\n",
       "      <td>582</td>\n",
       "      <td>0</td>\n",
       "      <td>50</td>\n",
       "      <td>0</td>\n",
       "      <td>263358.03</td>\n",
       "      <td>1.18</td>\n",
       "      <td>137</td>\n",
       "      <td>1</td>\n",
       "      <td>1</td>\n",
       "      <td>76</td>\n",
       "    </tr>\n",
       "    <tr>\n",
       "      <th>11</th>\n",
       "      <td>0</td>\n",
       "      <td>50</td>\n",
       "      <td>0</td>\n",
       "      <td>1846</td>\n",
       "      <td>1</td>\n",
       "      <td>35</td>\n",
       "      <td>0</td>\n",
       "      <td>263358.03</td>\n",
       "      <td>1.18</td>\n",
       "      <td>137</td>\n",
       "      <td>1</td>\n",
       "      <td>1</td>\n",
       "      <td>119</td>\n",
       "    </tr>\n",
       "    <tr>\n",
       "      <th>12</th>\n",
       "      <td>0</td>\n",
       "      <td>58</td>\n",
       "      <td>0</td>\n",
       "      <td>144</td>\n",
       "      <td>1</td>\n",
       "      <td>38</td>\n",
       "      <td>1</td>\n",
       "      <td>327000.00</td>\n",
       "      <td>0.70</td>\n",
       "      <td>142</td>\n",
       "      <td>0</td>\n",
       "      <td>0</td>\n",
       "      <td>83</td>\n",
       "    </tr>\n",
       "    <tr>\n",
       "      <th>13</th>\n",
       "      <td>1</td>\n",
       "      <td>82</td>\n",
       "      <td>1</td>\n",
       "      <td>379</td>\n",
       "      <td>0</td>\n",
       "      <td>50</td>\n",
       "      <td>0</td>\n",
       "      <td>47000.00</td>\n",
       "      <td>1.30</td>\n",
       "      <td>136</td>\n",
       "      <td>1</td>\n",
       "      <td>0</td>\n",
       "      <td>13</td>\n",
       "    </tr>\n",
       "    <tr>\n",
       "      <th>14</th>\n",
       "      <td>1</td>\n",
       "      <td>65</td>\n",
       "      <td>0</td>\n",
       "      <td>94</td>\n",
       "      <td>1</td>\n",
       "      <td>50</td>\n",
       "      <td>1</td>\n",
       "      <td>188000.00</td>\n",
       "      <td>1.00</td>\n",
       "      <td>140</td>\n",
       "      <td>1</td>\n",
       "      <td>0</td>\n",
       "      <td>29</td>\n",
       "    </tr>\n",
       "  </tbody>\n",
       "</table>\n",
       "</div>"
      ],
      "text/plain": [
       "    DEATH_EVENT  age  anaemia  creatinine_phosphokinase  diabetes  \\\n",
       "0             0   58        1                       400         0   \n",
       "1             0   40        0                       582         1   \n",
       "2             1   72        1                       328         0   \n",
       "3             0   60        1                      1082         1   \n",
       "4             0   40        1                       101         0   \n",
       "5             0   50        0                      2522         0   \n",
       "6             1   50        0                       124         1   \n",
       "7             0   75        0                       675         1   \n",
       "8             0   42        1                        86         0   \n",
       "9             1   69        0                       582         0   \n",
       "10            0   67        0                       582         0   \n",
       "11            0   50        0                      1846         1   \n",
       "12            0   58        0                       144         1   \n",
       "13            1   82        1                       379         0   \n",
       "14            1   65        0                        94         1   \n",
       "\n",
       "    ejection_fraction  high_blood_pressure  platelets  serum_creatinine  \\\n",
       "0                  40                    0  164000.00              1.00   \n",
       "1                  35                    0  222000.00              1.00   \n",
       "2                  30                    1  621000.00              1.70   \n",
       "3                  45                    0  250000.00              6.10   \n",
       "4                  40                    0  226000.00              0.80   \n",
       "5                  30                    1  404000.00              0.50   \n",
       "6                  30                    1  153000.00              1.20   \n",
       "7                  60                    0  265000.00              1.40   \n",
       "8                  35                    0  365000.00              1.10   \n",
       "9                  20                    0  266000.00              1.20   \n",
       "10                 50                    0  263358.03              1.18   \n",
       "11                 35                    0  263358.03              1.18   \n",
       "12                 38                    1  327000.00              0.70   \n",
       "13                 50                    0   47000.00              1.30   \n",
       "14                 50                    1  188000.00              1.00   \n",
       "\n",
       "    serum_sodium  sex  smoking  time  \n",
       "0            139    0        0    91  \n",
       "1            132    1        0   244  \n",
       "2            138    0        1    88  \n",
       "3            131    1        0   107  \n",
       "4            141    0        0   187  \n",
       "5            139    0        0   214  \n",
       "6            136    0        1    32  \n",
       "7            125    0        0   205  \n",
       "8            139    1        1   201  \n",
       "9            134    1        1    73  \n",
       "10           137    1        1    76  \n",
       "11           137    1        1   119  \n",
       "12           142    0        0    83  \n",
       "13           136    1        0    13  \n",
       "14           140    1        0    29  "
      ]
     },
     "execution_count": 24,
     "metadata": {},
     "output_type": "execute_result"
    }
   ],
   "source": [
    "train_data.head(15)"
   ]
  },
  {
   "cell_type": "markdown",
   "metadata": {},
   "source": [
    "## Modello"
   ]
  },
  {
   "cell_type": "markdown",
   "metadata": {},
   "source": [
    "Adesso si andrà a creare il modello-classificatore che sraà successivamente ad addestrato."
   ]
  },
  {
   "cell_type": "markdown",
   "metadata": {},
   "source": [
    "### Dichiarazione del modello"
   ]
  },
  {
   "cell_type": "markdown",
   "metadata": {},
   "source": [
    "Il classificatore che è stato utilizzato prende il nome di *RandomForestClassifier*. Questo algoritmo addestra un certo numero di alberi classificatori su delle piccole porzioni del dataset e ne calcola una media dei risultati per migliorare l'accuracy di predizione dei dati che seguiranno."
   ]
  },
  {
   "cell_type": "code",
   "execution_count": 25,
   "metadata": {},
   "outputs": [],
   "source": [
    "model = RandomForestClassifier()"
   ]
  },
  {
   "cell_type": "code",
   "execution_count": 26,
   "metadata": {},
   "outputs": [
    {
     "name": "stdout",
     "output_type": "stream",
     "text": [
      "RandomForestClassifier()\n"
     ]
    }
   ],
   "source": [
    "print(model)"
   ]
  },
  {
   "cell_type": "markdown",
   "metadata": {},
   "source": [
    "## Train e Test"
   ]
  },
  {
   "cell_type": "markdown",
   "metadata": {},
   "source": [
    "### Divisione Xy"
   ]
  },
  {
   "cell_type": "markdown",
   "metadata": {},
   "source": [
    "Ora iniziamo a prepararci per l'addestramento del modello. Per prima cosa, dopo aver deciso le features su cui addestrare la rete, procediamo con la divisione del dataset in due parti: y che contiene solo la colonna delle label e X che conterrà tutto il resto."
   ]
  },
  {
   "cell_type": "code",
   "execution_count": 27,
   "metadata": {},
   "outputs": [],
   "source": [
    "# Scegliamo la colonna su cui si desidera addestrare il modello, ovvero\n",
    "# la nostra 'label'\n",
    "label = 'DEATH_EVENT'\n",
    "\n",
    "# Scegliamo le colonne su cui NON voglimo addestrare il modello\n",
    "not_features = ['diabetes', 'creatinine_phosphokinase', 'platelets']\n",
    "# not_features = []"
   ]
  },
  {
   "cell_type": "code",
   "execution_count": 28,
   "metadata": {},
   "outputs": [],
   "source": [
    "# Dividiamo il train-set e il test-set in due parti così da poter addestrare il modello:\n",
    "# y che contiene solo la colonna label 'DEATH_EVENT' che consiste nella soluzione al problema\n",
    "# X che contiene tutte le altre colonne droppando dal dataset\n",
    "# quelle specificate in 'not_features'.\n",
    "y_train = train_data.pop(label)\n",
    "X_train = train_data.drop(not_features, axis=1)\n",
    "\n",
    "y_test = test_data.pop(label)\n",
    "X_test = test_data.drop(not_features, axis=1)"
   ]
  },
  {
   "cell_type": "markdown",
   "metadata": {},
   "source": [
    "### Addestramento - Train"
   ]
  },
  {
   "cell_type": "markdown",
   "metadata": {},
   "source": [
    "Ora è arrivato il momento di addestrare il modello."
   ]
  },
  {
   "cell_type": "code",
   "execution_count": 29,
   "metadata": {},
   "outputs": [
    {
     "name": "stdout",
     "output_type": "stream",
     "text": [
      "Training score: 100.0000%\n"
     ]
    }
   ],
   "source": [
    "# Addestramento del modello\n",
    "model = model.fit(X_train, y_train)\n",
    "\n",
    "# Calcolo dello score di addestramento del modello\n",
    "score = model.score(X_train, y_train)\n",
    "\n",
    "print(f\"Training score: {score:.4%}\")"
   ]
  },
  {
   "cell_type": "markdown",
   "metadata": {},
   "source": [
    "### Valutazione - Test"
   ]
  },
  {
   "cell_type": "markdown",
   "metadata": {},
   "source": [
    "Ora eseguiamo la valutazione del modello tramite la predizione dei valori di test."
   ]
  },
  {
   "cell_type": "code",
   "execution_count": 30,
   "metadata": {},
   "outputs": [
    {
     "name": "stdout",
     "output_type": "stream",
     "text": [
      "Prediction Accuracy: 83.3333%\n"
     ]
    }
   ],
   "source": [
    "# Predizione dei dati di test\n",
    "prediction = model.predict(X_test)\n",
    "\n",
    "# Calcolo dell'accuracy\n",
    "acc = accuracy_score(y_test, prediction)\n",
    "\n",
    "print(f\"Prediction Accuracy: {acc:.4%}\")"
   ]
  },
  {
   "cell_type": "markdown",
   "metadata": {},
   "source": [
    "## Confusion Matrix"
   ]
  },
  {
   "cell_type": "markdown",
   "metadata": {},
   "source": [
    "Stampiamo ora una confusion matrix con i valori trovati durante l'operazione di test."
   ]
  },
  {
   "cell_type": "code",
   "execution_count": 31,
   "metadata": {},
   "outputs": [],
   "source": [
    "# Creazione di una confusion matrix\n",
    "conf_matr = confusion_matrix(y_test, prediction, normalize=None)"
   ]
  },
  {
   "cell_type": "code",
   "execution_count": 32,
   "metadata": {},
   "outputs": [
    {
     "name": "stdout",
     "output_type": "stream",
     "text": [
      "[[30  4]\n",
      " [ 4 10]]\n"
     ]
    }
   ],
   "source": [
    "# Stampa della confusion matrix\n",
    "print(conf_matr)"
   ]
  },
  {
   "cell_type": "code",
   "execution_count": 33,
   "metadata": {
    "scrolled": true
   },
   "outputs": [
    {
     "name": "stdout",
     "output_type": "stream",
     "text": [
      "[[30  4]\n",
      " [ 4 10]]\n"
     ]
    },
    {
     "data": {
      "image/png": "[encoded data removed]",
      "text/plain": [
       "<Figure size 432x288 with 2 Axes>"
      ]
     },
     "metadata": {
      "needs_background": "light"
     },
     "output_type": "display_data"
    }
   ],
   "source": [
    "# Stampa grafica della confusion matrix\n",
    "disp = plot_confusion_matrix(model, X_test, y_test,\n",
    "                                 cmap=plt.cm.Blues)\n",
    "disp.ax_.set_title(\"Confusion Matrix \")\n",
    "\n",
    "\n",
    "\n",
    "print(disp.confusion_matrix)\n",
    "plt.show()"
   ]
  },
  {
   "cell_type": "markdown",
   "metadata": {},
   "source": [
    "## Conclusioni"
   ]
  },
  {
   "cell_type": "markdown",
   "metadata": {},
   "source": [
    "Con il dataset fornito non è possibile addestrare un modello in modo tale da predirre in maniera corretta qualsiasi input.\n",
    "\n",
    "A causa del numero limitato di esempi per l'addestramento il modello non è in grado di creare un albero decisionele ottimo ma, al contrario, si genera un eccessivo overfitting del modello ai dati di train producendo un 100% di accuracy sull'operazione di train e solo un ~80% su quella di test.\n",
    "\n",
    "Inoltre, essendo il rapporto NO_DEATH_EVENT/DEATH_EVENT nel dataset pari a ~70:30 il modello ha avuto troppi pochi esempi per poter realmente imparare a riconoscere quei input con label \"DEATH_EVENT\" pari a 1.\n",
    "\n",
    "infine bisogna porre l'attenzione su un ultimo particolare, ovvero i due picchi che si possono osservare nei grafici (sezione \"Analisi del dataset di train\") delle features *creatinine_phosphokinase* e *platelets*. Poiché questi risultati si ottengono da un dataset di soli 240 elementi, per poter dare una valenza significativa a questi valori anomali bisognerebbe confrontarli con un altro dataset più ampio. L'utilizzo di queste due feature nella fase di addestramento potrebbe influire significativamente in modo negativo nel caso in cui, confrontandole con altri dataset, non rispecchiassero il vero."
   ]
  },
  {
   "cell_type": "code",
   "execution_count": null,
   "metadata": {},
   "outputs": [],
   "source": []
  }
 ],
 "metadata": {
  "kernelspec": {
   "display_name": "Python 3",
   "language": "python",
   "name": "python3"
  },
  "language_info": {
   "codemirror_mode": {
    "name": "ipython",
    "version": 3
   },
   "file_extension": ".py",
   "mimetype": "text/x-python",
   "name": "python",
   "nbconvert_exporter": "python",
   "pygments_lexer": "ipython3",
   "version": "3.7.4"
  }
 },
 "nbformat": 4,
 "nbformat_minor": 4
}
