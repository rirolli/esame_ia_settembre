{
 "cells": [
  {
   "cell_type": "markdown",
   "metadata": {},
   "source": [
    "# Train e Test del Modello"
   ]
  },
  {
   "cell_type": "markdown",
   "metadata": {},
   "source": [
    "## Import delle librerie"
   ]
  },
  {
   "cell_type": "markdown",
   "metadata": {},
   "source": [
    "Per prima cosa procediamo con l'importazione delle librerie necessarie al corretto funzionamento dell'addestramento."
   ]
  },
  {
   "cell_type": "code",
   "execution_count": 1,
   "metadata": {},
   "outputs": [
    {
     "name": "stdout",
     "output_type": "stream",
     "text": [
      "Requirement already satisfied: matplotlib==3.1.1 in c:\\program files (x86)\\microsoft visual studio\\shared\\python37_64\\lib\\site-packages (from -r requirements.txt (line 1)) (3.1.1)\n",
      "Requirement already satisfied: numpy==1.17.2 in c:\\program files (x86)\\microsoft visual studio\\shared\\python37_64\\lib\\site-packages (from -r requirements.txt (line 2)) (1.17.2)\n",
      "Requirement already satisfied: pandas==1.0.5 in c:\\users\\ricca\\appdata\\roaming\\python\\python37\\site-packages (from -r requirements.txt (line 3)) (1.0.5)\n",
      "Requirement already satisfied: scikit-learn==0.23.1 in c:\\program files (x86)\\microsoft visual studio\\shared\\python37_64\\lib\\site-packages (from -r requirements.txt (line 4)) (0.23.1)\n",
      "Requirement already satisfied: tensorflow==2.2.0 in c:\\program files (x86)\\microsoft visual studio\\shared\\python37_64\\lib\\site-packages (from -r requirements.txt (line 5)) (2.2.0)\n",
      "Requirement already satisfied: seaborn==0.10.1 in c:\\users\\ricca\\appdata\\roaming\\python\\python37\\site-packages (from -r requirements.txt (line 6)) (0.10.1)\n",
      "Requirement already satisfied: cycler>=0.10 in c:\\program files (x86)\\microsoft visual studio\\shared\\python37_64\\lib\\site-packages (from matplotlib==3.1.1->-r requirements.txt (line 1)) (0.10.0)\n",
      "Requirement already satisfied: pyparsing!=2.0.4,!=2.1.2,!=2.1.6,>=2.0.1 in c:\\program files (x86)\\microsoft visual studio\\shared\\python37_64\\lib\\site-packages (from matplotlib==3.1.1->-r requirements.txt (line 1)) (2.4.2)\n",
      "Requirement already satisfied: kiwisolver>=1.0.1 in c:\\program files (x86)\\microsoft visual studio\\shared\\python37_64\\lib\\site-packages (from matplotlib==3.1.1->-r requirements.txt (line 1)) (1.1.0)\n",
      "Requirement already satisfied: python-dateutil>=2.1 in c:\\program files (x86)\\microsoft visual studio\\shared\\python37_64\\lib\\site-packages (from matplotlib==3.1.1->-r requirements.txt (line 1)) (2.8.0)\n",
      "Requirement already satisfied: pytz>=2017.2 in c:\\users\\ricca\\appdata\\roaming\\python\\python37\\site-packages (from pandas==1.0.5->-r requirements.txt (line 3)) (2020.1)\n",
      "Requirement already satisfied: joblib>=0.11 in c:\\program files (x86)\\microsoft visual studio\\shared\\python37_64\\lib\\site-packages (from scikit-learn==0.23.1->-r requirements.txt (line 4)) (0.15.1)\n",
      "Requirement already satisfied: scipy>=0.19.1 in c:\\program files (x86)\\microsoft visual studio\\shared\\python37_64\\lib\\site-packages (from scikit-learn==0.23.1->-r requirements.txt (line 4)) (1.4.1)\n",
      "Requirement already satisfied: threadpoolctl>=2.0.0 in c:\\program files (x86)\\microsoft visual studio\\shared\\python37_64\\lib\\site-packages (from scikit-learn==0.23.1->-r requirements.txt (line 4)) (2.1.0)\n",
      "Requirement already satisfied: termcolor>=1.1.0 in c:\\program files (x86)\\microsoft visual studio\\shared\\python37_64\\lib\\site-packages (from tensorflow==2.2.0->-r requirements.txt (line 5)) (1.1.0)\n",
      "Requirement already satisfied: astunparse==1.6.3 in c:\\program files (x86)\\microsoft visual studio\\shared\\python37_64\\lib\\site-packages (from tensorflow==2.2.0->-r requirements.txt (line 5)) (1.6.3)\n",
      "Requirement already satisfied: gast==0.3.3 in c:\\program files (x86)\\microsoft visual studio\\shared\\python37_64\\lib\\site-packages (from tensorflow==2.2.0->-r requirements.txt (line 5)) (0.3.3)\n",
      "Requirement already satisfied: absl-py>=0.7.0 in c:\\program files (x86)\\microsoft visual studio\\shared\\python37_64\\lib\\site-packages (from tensorflow==2.2.0->-r requirements.txt (line 5)) (0.8.1)\n",
      "Requirement already satisfied: wrapt>=1.11.1 in c:\\program files (x86)\\microsoft visual studio\\shared\\python37_64\\lib\\site-packages (from tensorflow==2.2.0->-r requirements.txt (line 5)) (1.11.2)\n",
      "Requirement already satisfied: six>=1.12.0 in c:\\program files (x86)\\microsoft visual studio\\shared\\python37_64\\lib\\site-packages (from tensorflow==2.2.0->-r requirements.txt (line 5)) (1.12.0)\n",
      "Requirement already satisfied: grpcio>=1.8.6 in c:\\program files (x86)\\microsoft visual studio\\shared\\python37_64\\lib\\site-packages (from tensorflow==2.2.0->-r requirements.txt (line 5)) (1.24.1)\n",
      "Requirement already satisfied: h5py<2.11.0,>=2.10.0 in c:\\program files (x86)\\microsoft visual studio\\shared\\python37_64\\lib\\site-packages (from tensorflow==2.2.0->-r requirements.txt (line 5)) (2.10.0)\n",
      "Requirement already satisfied: protobuf>=3.8.0 in c:\\program files (x86)\\microsoft visual studio\\shared\\python37_64\\lib\\site-packages (from tensorflow==2.2.0->-r requirements.txt (line 5)) (3.10.0)\n",
      "Requirement already satisfied: google-pasta>=0.1.8 in c:\\program files (x86)\\microsoft visual studio\\shared\\python37_64\\lib\\site-packages (from tensorflow==2.2.0->-r requirements.txt (line 5)) (0.2.0)\n",
      "Requirement already satisfied: opt-einsum>=2.3.2 in c:\\program files (x86)\\microsoft visual studio\\shared\\python37_64\\lib\\site-packages (from tensorflow==2.2.0->-r requirements.txt (line 5)) (3.1.0)\n",
      "Requirement already satisfied: tensorboard<2.3.0,>=2.2.0 in c:\\program files (x86)\\microsoft visual studio\\shared\\python37_64\\lib\\site-packages (from tensorflow==2.2.0->-r requirements.txt (line 5)) (2.2.2)\n",
      "Requirement already satisfied: wheel>=0.26; python_version >= \"3\" in c:\\program files (x86)\\microsoft visual studio\\shared\\python37_64\\lib\\site-packages (from tensorflow==2.2.0->-r requirements.txt (line 5)) (0.33.6)\n",
      "Requirement already satisfied: keras-preprocessing>=1.1.0 in c:\\program files (x86)\\microsoft visual studio\\shared\\python37_64\\lib\\site-packages (from tensorflow==2.2.0->-r requirements.txt (line 5)) (1.1.2)\n",
      "Requirement already satisfied: tensorflow-estimator<2.3.0,>=2.2.0 in c:\\program files (x86)\\microsoft visual studio\\shared\\python37_64\\lib\\site-packages (from tensorflow==2.2.0->-r requirements.txt (line 5)) (2.2.0)\n",
      "Requirement already satisfied: setuptools in c:\\program files (x86)\\microsoft visual studio\\shared\\python37_64\\lib\\site-packages (from kiwisolver>=1.0.1->matplotlib==3.1.1->-r requirements.txt (line 1)) (41.4.0)\n",
      "Requirement already satisfied: google-auth<2,>=1.6.3 in c:\\program files (x86)\\microsoft visual studio\\shared\\python37_64\\lib\\site-packages (from tensorboard<2.3.0,>=2.2.0->tensorflow==2.2.0->-r requirements.txt (line 5)) (1.16.1)\n",
      "Requirement already satisfied: werkzeug>=0.11.15 in c:\\program files (x86)\\microsoft visual studio\\shared\\python37_64\\lib\\site-packages (from tensorboard<2.3.0,>=2.2.0->tensorflow==2.2.0->-r requirements.txt (line 5)) (0.16.0)\n",
      "Requirement already satisfied: requests<3,>=2.21.0 in c:\\program files (x86)\\microsoft visual studio\\shared\\python37_64\\lib\\site-packages (from tensorboard<2.3.0,>=2.2.0->tensorflow==2.2.0->-r requirements.txt (line 5)) (2.23.0)\n",
      "Requirement already satisfied: google-auth-oauthlib<0.5,>=0.4.1 in c:\\program files (x86)\\microsoft visual studio\\shared\\python37_64\\lib\\site-packages (from tensorboard<2.3.0,>=2.2.0->tensorflow==2.2.0->-r requirements.txt (line 5)) (0.4.1)\n",
      "Requirement already satisfied: tensorboard-plugin-wit>=1.6.0 in c:\\program files (x86)\\microsoft visual studio\\shared\\python37_64\\lib\\site-packages (from tensorboard<2.3.0,>=2.2.0->tensorflow==2.2.0->-r requirements.txt (line 5)) (1.6.0.post3)\n",
      "Requirement already satisfied: markdown>=2.6.8 in c:\\program files (x86)\\microsoft visual studio\\shared\\python37_64\\lib\\site-packages (from tensorboard<2.3.0,>=2.2.0->tensorflow==2.2.0->-r requirements.txt (line 5)) (3.1.1)\n",
      "Requirement already satisfied: rsa<4.1,>=3.1.4 in c:\\program files (x86)\\microsoft visual studio\\shared\\python37_64\\lib\\site-packages (from google-auth<2,>=1.6.3->tensorboard<2.3.0,>=2.2.0->tensorflow==2.2.0->-r requirements.txt (line 5)) (4.0)\n",
      "Requirement already satisfied: pyasn1-modules>=0.2.1 in c:\\program files (x86)\\microsoft visual studio\\shared\\python37_64\\lib\\site-packages (from google-auth<2,>=1.6.3->tensorboard<2.3.0,>=2.2.0->tensorflow==2.2.0->-r requirements.txt (line 5)) (0.2.8)\n",
      "Requirement already satisfied: cachetools<5.0,>=2.0.0 in c:\\program files (x86)\\microsoft visual studio\\shared\\python37_64\\lib\\site-packages (from google-auth<2,>=1.6.3->tensorboard<2.3.0,>=2.2.0->tensorflow==2.2.0->-r requirements.txt (line 5)) (4.1.0)\n",
      "Requirement already satisfied: certifi>=2017.4.17 in c:\\program files (x86)\\microsoft visual studio\\shared\\python37_64\\lib\\site-packages (from requests<3,>=2.21.0->tensorboard<2.3.0,>=2.2.0->tensorflow==2.2.0->-r requirements.txt (line 5)) (2020.4.5.1)\n",
      "Requirement already satisfied: urllib3!=1.25.0,!=1.25.1,<1.26,>=1.21.1 in c:\\program files (x86)\\microsoft visual studio\\shared\\python37_64\\lib\\site-packages (from requests<3,>=2.21.0->tensorboard<2.3.0,>=2.2.0->tensorflow==2.2.0->-r requirements.txt (line 5)) (1.25.9)\n",
      "Requirement already satisfied: chardet<4,>=3.0.2 in c:\\program files (x86)\\microsoft visual studio\\shared\\python37_64\\lib\\site-packages (from requests<3,>=2.21.0->tensorboard<2.3.0,>=2.2.0->tensorflow==2.2.0->-r requirements.txt (line 5)) (3.0.4)\n",
      "Requirement already satisfied: idna<3,>=2.5 in c:\\program files (x86)\\microsoft visual studio\\shared\\python37_64\\lib\\site-packages (from requests<3,>=2.21.0->tensorboard<2.3.0,>=2.2.0->tensorflow==2.2.0->-r requirements.txt (line 5)) (2.9)\n",
      "Requirement already satisfied: requests-oauthlib>=0.7.0 in c:\\program files (x86)\\microsoft visual studio\\shared\\python37_64\\lib\\site-packages (from google-auth-oauthlib<0.5,>=0.4.1->tensorboard<2.3.0,>=2.2.0->tensorflow==2.2.0->-r requirements.txt (line 5)) (1.3.0)\n",
      "Requirement already satisfied: pyasn1>=0.1.3 in c:\\program files (x86)\\microsoft visual studio\\shared\\python37_64\\lib\\site-packages (from rsa<4.1,>=3.1.4->google-auth<2,>=1.6.3->tensorboard<2.3.0,>=2.2.0->tensorflow==2.2.0->-r requirements.txt (line 5)) (0.4.8)\n",
      "Requirement already satisfied: oauthlib>=3.0.0 in c:\\program files (x86)\\microsoft visual studio\\shared\\python37_64\\lib\\site-packages (from requests-oauthlib>=0.7.0->google-auth-oauthlib<0.5,>=0.4.1->tensorboard<2.3.0,>=2.2.0->tensorflow==2.2.0->-r requirements.txt (line 5)) (3.1.0)\n"
     ]
    }
   ],
   "source": [
    "!pip install --user -r requirements.txt"
   ]
  },
  {
   "cell_type": "code",
   "execution_count": 2,
   "metadata": {},
   "outputs": [],
   "source": [
    "import pandas as pd\n",
    "import numpy as np\n",
    "import sklearn as sl\n",
    "import seaborn as sns\n",
    "import matplotlib.pyplot as plt\n",
    "\n",
    "from sklearn.metrics import confusion_matrix, plot_confusion_matrix, accuracy_score\n",
    "from sklearn.preprocessing import LabelEncoder, MinMaxScaler, StandardScaler, OrdinalEncoder\n",
    "from sklearn.pipeline import Pipeline\n",
    "from sklearn.compose import ColumnTransformer\n",
    "from sklearn.impute import SimpleImputer\n",
    "from sklearn.ensemble import RandomForestClassifier\n",
    "from sklearn.model_selection import cross_val_score"
   ]
  },
  {
   "cell_type": "markdown",
   "metadata": {},
   "source": [
    "## Caricamento dei dataset"
   ]
  },
  {
   "cell_type": "markdown",
   "metadata": {},
   "source": [
    "Ora procediamo con il caricamento dei dataset creati nel primo file di questo progetto."
   ]
  },
  {
   "cell_type": "code",
   "execution_count": 3,
   "metadata": {},
   "outputs": [],
   "source": [
    "url_train = 'train.csv'\n",
    "url_test = 'test.csv'\n",
    "\n",
    "train_data = pd.read_csv(url_train)\n",
    "test_data =pd.read_csv(url_test)"
   ]
  },
  {
   "cell_type": "markdown",
   "metadata": {},
   "source": [
    "Verifichiamo che i dataset siano stati importati in modo corretto."
   ]
  },
  {
   "cell_type": "code",
   "execution_count": 4,
   "metadata": {},
   "outputs": [],
   "source": [
    "if train_data.empty or test_data.empty:\n",
    "    raise(\"I dataset non sono stati caricati correttamente.\")"
   ]
  },
  {
   "cell_type": "markdown",
   "metadata": {},
   "source": [
    "## Rimozione delle righe con valori nulli"
   ]
  },
  {
   "cell_type": "markdown",
   "metadata": {},
   "source": [
    "Procediamo ora con il cercare se ci sono righe nulle sia sul dataset di train che su quello di test. Tali righe saranno considerate non valide e dovranno, pertanto, essere rimosse dal dataset per evitare possibili errori durante l'addestramento.\n",
    "\n",
    "I simboli che in genere vengono utilizzati per intendere le righe nulle sono: \"\", \" \", \"_\", \"-\", \"?\", \"nan\", \"na\", \"NaN\"."
   ]
  },
  {
   "cell_type": "markdown",
   "metadata": {},
   "source": [
    "Come prima operazione ceschiamo di trovare i valori nulli nei vari dataset:"
   ]
  },
  {
   "cell_type": "code",
   "execution_count": 5,
   "metadata": {},
   "outputs": [],
   "source": [
    "# Sostituisco ad ogni stringa vuola il valore 'NaN' nel dataset di train\n",
    "train_data.replace(\"\", np.nan, inplace=True)\n",
    "train_data.replace(\" \", np.nan, inplace=True)\n",
    "train_data.replace(\"_\", np.nan, inplace=True)\n",
    "train_data.replace(\"-\", np.nan, inplace=True)\n",
    "train_data.replace(\"?\", np.nan, inplace=True)\n",
    "train_data.replace(\"nan\", np.nan, inplace=True)\n",
    "train_data.replace(\"na\", np.nan, inplace=True)\n",
    "train_data.replace(\"NaN\", np.nan, inplace=True)\n",
    "\n",
    "# Sostituisco ad ogni stringa vuola il valore 'NaN' nel dataset di test\n",
    "test_data.replace(\"\", np.nan, inplace=True)\n",
    "test_data.replace(\" \", np.nan, inplace=True)\n",
    "test_data.replace(\"_\", np.nan, inplace=True)\n",
    "test_data.replace(\"-\", np.nan, inplace=True)\n",
    "test_data.replace(\"?\", np.nan, inplace=True)\n",
    "test_data.replace(\"nan\", np.nan, inplace=True)\n",
    "test_data.replace(\"na\", np.nan, inplace=True)\n",
    "test_data.replace(\"NaN\", np.nan, inplace=True)"
   ]
  },
  {
   "cell_type": "code",
   "execution_count": 6,
   "metadata": {},
   "outputs": [
    {
     "data": {
      "text/plain": [
       "DEATH_EVENT                 0\n",
       "age                         0\n",
       "anaemia                     0\n",
       "creatinine_phosphokinase    0\n",
       "diabetes                    0\n",
       "ejection_fraction           0\n",
       "high_blood_pressure         0\n",
       "platelets                   0\n",
       "serum_creatinine            0\n",
       "serum_sodium                0\n",
       "sex                         0\n",
       "smoking                     0\n",
       "time                        0\n",
       "dtype: int64"
      ]
     },
     "execution_count": 6,
     "metadata": {},
     "output_type": "execute_result"
    }
   ],
   "source": [
    "# Controllo dei dati non validi (NaN) nel dataset di train\n",
    "train_data.isna().sum()"
   ]
  },
  {
   "cell_type": "code",
   "execution_count": 7,
   "metadata": {
    "scrolled": true
   },
   "outputs": [
    {
     "data": {
      "text/plain": [
       "DEATH_EVENT                 0\n",
       "age                         0\n",
       "anaemia                     0\n",
       "creatinine_phosphokinase    0\n",
       "diabetes                    0\n",
       "ejection_fraction           0\n",
       "high_blood_pressure         0\n",
       "platelets                   0\n",
       "serum_creatinine            0\n",
       "serum_sodium                0\n",
       "sex                         0\n",
       "smoking                     0\n",
       "time                        0\n",
       "dtype: int64"
      ]
     },
     "execution_count": 7,
     "metadata": {},
     "output_type": "execute_result"
    }
   ],
   "source": [
    "# Controllo dei dati non validi (NaN) nel dataset di test\n",
    "test_data.isna().sum()"
   ]
  },
  {
   "cell_type": "markdown",
   "metadata": {},
   "source": [
    "Nel caso in cui risultasse esserci dei valori nulli allora procediamo con la rimozione."
   ]
  },
  {
   "cell_type": "code",
   "execution_count": 8,
   "metadata": {},
   "outputs": [],
   "source": [
    "# Procediamo con l'eliminazione dei dati non validi (NaN)\n",
    "test_data.dropna(inplace=True)\n",
    "train_data.dropna(inplace=True)"
   ]
  },
  {
   "cell_type": "markdown",
   "metadata": {},
   "source": [
    "Controlliamo che tutti i valori nulli siano stati rimossi correttamente."
   ]
  },
  {
   "cell_type": "code",
   "execution_count": 9,
   "metadata": {
    "scrolled": true
   },
   "outputs": [
    {
     "data": {
      "text/plain": [
       "DEATH_EVENT                 0\n",
       "age                         0\n",
       "anaemia                     0\n",
       "creatinine_phosphokinase    0\n",
       "diabetes                    0\n",
       "ejection_fraction           0\n",
       "high_blood_pressure         0\n",
       "platelets                   0\n",
       "serum_creatinine            0\n",
       "serum_sodium                0\n",
       "sex                         0\n",
       "smoking                     0\n",
       "time                        0\n",
       "dtype: int64"
      ]
     },
     "execution_count": 9,
     "metadata": {},
     "output_type": "execute_result"
    }
   ],
   "source": [
    "# Controllo dei dati non validi (NaN) nel dataset di train\n",
    "train_data.isna().sum()"
   ]
  },
  {
   "cell_type": "code",
   "execution_count": 10,
   "metadata": {},
   "outputs": [
    {
     "data": {
      "text/plain": [
       "DEATH_EVENT                 0\n",
       "age                         0\n",
       "anaemia                     0\n",
       "creatinine_phosphokinase    0\n",
       "diabetes                    0\n",
       "ejection_fraction           0\n",
       "high_blood_pressure         0\n",
       "platelets                   0\n",
       "serum_creatinine            0\n",
       "serum_sodium                0\n",
       "sex                         0\n",
       "smoking                     0\n",
       "time                        0\n",
       "dtype: int64"
      ]
     },
     "execution_count": 10,
     "metadata": {},
     "output_type": "execute_result"
    }
   ],
   "source": [
    "# Controllo dei dati non validi (NaN) nel dataset di test\n",
    "test_data.isna().sum()"
   ]
  },
  {
   "cell_type": "markdown",
   "metadata": {},
   "source": [
    "## Analisi del dataset di train"
   ]
  },
  {
   "cell_type": "markdown",
   "metadata": {},
   "source": [
    "Ora analizziamo il dataset di train per avere maggiori informazioni per addestrare il modello"
   ]
  },
  {
   "cell_type": "code",
   "execution_count": 11,
   "metadata": {},
   "outputs": [
    {
     "name": "stdout",
     "output_type": "stream",
     "text": [
      "Shape: (191, 13)\n",
      "Numero di righe (campioni): 191\n",
      "Numero di colonne: 13\n"
     ]
    }
   ],
   "source": [
    "# Numero di righe e colonne nel dataset\n",
    "print(f\"Shape: {train_data.shape}\")\n",
    "print(f\"Numero di righe (campioni): {train_data.shape[0]}\")\n",
    "print(f\"Numero di colonne: {train_data.shape[1]}\")"
   ]
  },
  {
   "cell_type": "markdown",
   "metadata": {},
   "source": [
    "Osserviamo il tipo di ogni colonna."
   ]
  },
  {
   "cell_type": "code",
   "execution_count": 12,
   "metadata": {},
   "outputs": [
    {
     "data": {
      "text/plain": [
       "DEATH_EVENT                   int64\n",
       "age                         float64\n",
       "anaemia                       int64\n",
       "creatinine_phosphokinase      int64\n",
       "diabetes                      int64\n",
       "ejection_fraction             int64\n",
       "high_blood_pressure           int64\n",
       "platelets                   float64\n",
       "serum_creatinine            float64\n",
       "serum_sodium                  int64\n",
       "sex                           int64\n",
       "smoking                       int64\n",
       "time                          int64\n",
       "dtype: object"
      ]
     },
     "execution_count": 12,
     "metadata": {},
     "output_type": "execute_result"
    }
   ],
   "source": [
    "train_data.dtypes"
   ]
  },
  {
   "cell_type": "markdown",
   "metadata": {},
   "source": [
    "Stampiamo i valori unici di ogni colonna."
   ]
  },
  {
   "cell_type": "code",
   "execution_count": 13,
   "metadata": {},
   "outputs": [
    {
     "name": "stdout",
     "output_type": "stream",
     "text": [
      "DEATH_EVENT :  [0 1]\n",
      "\n",
      "age :  [40.    41.    42.    43.    44.    45.    46.    47.    48.    49.\n",
      " 50.    52.    53.    55.    56.    57.    58.    59.    60.    60.667\n",
      " 61.    62.    63.    64.    65.    66.    67.    68.    69.    70.\n",
      " 72.    73.    75.    77.    78.    79.    80.    81.    82.    85.\n",
      " 86.    87.    90.    94.    95.   ]\n",
      "\n",
      "anaemia :  [0 1]\n",
      "\n",
      "creatinine_phosphokinase :  [  23   30   52   54   55   56   57   59   60   61   62   63   64   66\n",
      "   68   69   70   72   75   80   81   84   86   88   90   91   93   95\n",
      "   96   97   99  102  103  104  109  110  111  112  115  118  121  122\n",
      "  127  128  129  130  132  133  135  144  146  148  149  151  156  157\n",
      "  160  166  167  168  170  171  185  190  191  193  196  198  200  203\n",
      "  207  212  213  220  231  232  235  245  248  249  250  253  258  281\n",
      "  291  305  318  320  326  328  336  337  358  369  379  395  400  482\n",
      "  553  572  577  582  588  615  618  655  707  719  720  776  835  855\n",
      "  897  910 1021 1082 1185 1199 1202 1211 1419 1548 1688 1767 1808 1820\n",
      " 1846 1876 1896 2017 2261 2281 2413 2656 2794 3964 3966 4540 5209 5882\n",
      " 7861]\n",
      "\n",
      "diabetes :  [0 1]\n",
      "\n",
      "ejection_fraction :  [15 17 20 25 30 35 38 40 45 50 55 60 62 65]\n",
      "\n",
      "high_blood_pressure :  [0 1]\n",
      "\n",
      "platelets :  [ 47000.    62000.    70000.    73000.    87000.   105000.   119000.\n",
      " 122000.   127000.   130000.   132000.   133000.   140000.   141000.\n",
      " 147000.   153000.   155000.   160000.   162000.   164000.   166000.\n",
      " 172000.   173000.   174000.   176000.   179000.   181000.   184000.\n",
      " 185000.   186000.   189000.   192000.   194000.   196000.   198000.\n",
      " 200000.   201000.   203000.   210000.   211000.   213000.   215000.\n",
      " 216000.   217000.   218000.   219000.   220000.   221000.   222000.\n",
      " 223000.   224000.   225000.   226000.   228000.   229000.   231000.\n",
      " 233000.   235000.   236000.   237000.   242000.   243000.   244000.\n",
      " 249000.   250000.   252000.   253000.   254000.   255000.   257000.\n",
      " 260000.   262000.   263358.03 265000.   266000.   267000.   270000.\n",
      " 271000.   274000.   276000.   277000.   279000.   281000.   282000.\n",
      " 283000.   284000.   289000.   293000.   294000.   295000.   297000.\n",
      " 298000.   300000.   302000.   304000.   305000.   306000.   308000.\n",
      " 309000.   314000.   318000.   319000.   321000.   324000.   325000.\n",
      " 327000.   329000.   330000.   334000.   336000.   337000.   348000.\n",
      " 350000.   351000.   358000.   360000.   362000.   365000.   368000.\n",
      " 374000.   382000.   389000.   390000.   406000.   418000.   427000.\n",
      " 448000.   451000.   507000.   533000.   543000.   621000.  ]\n",
      "\n",
      "serum_creatinine :  [0.6  0.7  0.75 0.8  0.9  1.   1.1  1.18 1.2  1.3  1.4  1.5  1.6  1.7\n",
      " 1.8  1.83 1.9  2.1  2.3  2.4  2.5  2.7  2.9  3.   3.2  3.5  3.7  4.\n",
      " 4.4  5.   5.8  6.1  6.8 ]\n",
      "\n",
      "serum_sodium :  [113 116 121 124 127 128 129 130 131 132 133 134 135 136 137 138 139 140\n",
      " 141 142 143 144 145 146]\n",
      "\n",
      "sex :  [0 1]\n",
      "\n",
      "smoking :  [0 1]\n",
      "\n",
      "time :  [  4   6   7   8  10  12  13  14  15  16  20  22  24  26  27  28  30  31\n",
      "  33  40  41  43  44  54  60  64  65  68  71  72  73  74  75  76  78  79\n",
      "  80  83  85  86  87  88  90  91  94  95  96  97 100 104 106 107 108 109\n",
      " 110 112 113 115 117 118 119 120 121 123 130 134 135 145 146 147 154 162\n",
      " 171 172 174 175 180 185 186 187 192 196 197 198 200 201 205 206 207 208\n",
      " 209 210 212 213 214 215 216 220 230 231 233 235 237 241 244 245 246 250\n",
      " 256 257 258 270 271 280]\n",
      "\n"
     ]
    }
   ],
   "source": [
    "# Stampa di tutti i valori unici di ogni colonna\n",
    "for val in train_data:\n",
    "    print(val, ': ', np.sort(train_data[val].unique()))\n",
    "    print()"
   ]
  },
  {
   "cell_type": "markdown",
   "metadata": {},
   "source": [
    "Stampa delle ricorrenze dei valori di ogni colonna."
   ]
  },
  {
   "cell_type": "code",
   "execution_count": 14,
   "metadata": {},
   "outputs": [
    {
     "name": "stdout",
     "output_type": "stream",
     "text": [
      "0    136\n",
      "1     55\n",
      "Name: DEATH_EVENT, dtype: int64\n",
      "\n",
      "60.000    20\n",
      "65.000    17\n",
      "50.000    16\n",
      "70.000    15\n",
      "55.000    12\n",
      "45.000     8\n",
      "58.000     8\n",
      "53.000     8\n",
      "85.000     6\n",
      "75.000     6\n",
      "62.000     5\n",
      "63.000     5\n",
      "52.000     4\n",
      "61.000     4\n",
      "42.000     4\n",
      "80.000     3\n",
      "46.000     3\n",
      "69.000     3\n",
      "40.000     3\n",
      "82.000     3\n",
      "68.000     3\n",
      "73.000     3\n",
      "72.000     3\n",
      "59.000     2\n",
      "67.000     2\n",
      "90.000     2\n",
      "44.000     2\n",
      "49.000     2\n",
      "60.667     2\n",
      "66.000     2\n",
      "79.000     1\n",
      "56.000     1\n",
      "41.000     1\n",
      "77.000     1\n",
      "95.000     1\n",
      "87.000     1\n",
      "86.000     1\n",
      "48.000     1\n",
      "78.000     1\n",
      "47.000     1\n",
      "64.000     1\n",
      "94.000     1\n",
      "43.000     1\n",
      "81.000     1\n",
      "57.000     1\n",
      "Name: age, dtype: int64\n",
      "\n",
      "0    108\n",
      "1     83\n",
      "Name: anaemia, dtype: int64\n",
      "\n",
      "582     28\n",
      "66       4\n",
      "129      3\n",
      "69       3\n",
      "68       3\n",
      "        ..\n",
      "96       1\n",
      "1199     1\n",
      "615      1\n",
      "328      1\n",
      "258      1\n",
      "Name: creatinine_phosphokinase, Length: 141, dtype: int64\n",
      "\n",
      "0    112\n",
      "1     79\n",
      "Name: diabetes, dtype: int64\n",
      "\n",
      "35    32\n",
      "38    31\n",
      "40    28\n",
      "30    20\n",
      "25    17\n",
      "60    16\n",
      "50    14\n",
      "20    13\n",
      "45    12\n",
      "55     3\n",
      "62     2\n",
      "65     1\n",
      "17     1\n",
      "15     1\n",
      "Name: ejection_fraction, dtype: int64\n",
      "\n",
      "0    126\n",
      "1     65\n",
      "Name: high_blood_pressure, dtype: int64\n",
      "\n",
      "263358.03    16\n",
      "279000.00     4\n",
      "305000.00     3\n",
      "249000.00     3\n",
      "228000.00     3\n",
      "             ..\n",
      "200000.00     1\n",
      "122000.00     1\n",
      "324000.00     1\n",
      "229000.00     1\n",
      "336000.00     1\n",
      "Name: platelets, Length: 132, dtype: int64\n",
      "\n",
      "1.00    33\n",
      "0.90    25\n",
      "1.10    19\n",
      "0.70    14\n",
      "0.80    14\n",
      "1.20    13\n",
      "1.30    13\n",
      "1.18     7\n",
      "1.70     6\n",
      "1.40     6\n",
      "1.83     6\n",
      "1.50     3\n",
      "1.90     3\n",
      "2.10     3\n",
      "1.60     3\n",
      "2.30     2\n",
      "1.80     2\n",
      "3.00     2\n",
      "0.60     2\n",
      "2.70     2\n",
      "5.00     1\n",
      "0.75     1\n",
      "4.00     1\n",
      "3.50     1\n",
      "2.50     1\n",
      "3.70     1\n",
      "6.10     1\n",
      "2.90     1\n",
      "2.40     1\n",
      "3.20     1\n",
      "6.80     1\n",
      "5.80     1\n",
      "4.40     1\n",
      "Name: serum_creatinine, dtype: int64\n",
      "\n",
      "136    24\n",
      "134    23\n",
      "140    22\n",
      "137    21\n",
      "138    16\n",
      "139    14\n",
      "132    10\n",
      "141    10\n",
      "135     8\n",
      "133     8\n",
      "142     6\n",
      "130     5\n",
      "145     5\n",
      "131     4\n",
      "144     3\n",
      "143     2\n",
      "129     2\n",
      "127     2\n",
      "121     1\n",
      "116     1\n",
      "146     1\n",
      "124     1\n",
      "128     1\n",
      "113     1\n",
      "Name: serum_sodium, dtype: int64\n",
      "\n",
      "1    125\n",
      "0     66\n",
      "Name: sex, dtype: int64\n",
      "\n",
      "0    128\n",
      "1     63\n",
      "Name: smoking, dtype: int64\n",
      "\n",
      "107    6\n",
      "250    5\n",
      "30     5\n",
      "146    4\n",
      "121    4\n",
      "      ..\n",
      "100    1\n",
      "196    1\n",
      "106    1\n",
      "271    1\n",
      "256    1\n",
      "Name: time, Length: 114, dtype: int64\n",
      "\n"
     ]
    }
   ],
   "source": [
    "# Stampa del conto dei valori presenti in ogni colonna\n",
    "for val in train_data:\n",
    "    print(train_data[val].value_counts())\n",
    "    print()"
   ]
  },
  {
   "cell_type": "markdown",
   "metadata": {},
   "source": [
    "Vediamo ora un po' di statistiche dei valori contenuti nel dataset."
   ]
  },
  {
   "cell_type": "code",
   "execution_count": 15,
   "metadata": {},
   "outputs": [
    {
     "data": {
      "text/html": [
       "<div>\n",
       "<style scoped>\n",
       "    .dataframe tbody tr th:only-of-type {\n",
       "        vertical-align: middle;\n",
       "    }\n",
       "\n",
       "    .dataframe tbody tr th {\n",
       "        vertical-align: top;\n",
       "    }\n",
       "\n",
       "    .dataframe thead th {\n",
       "        text-align: right;\n",
       "    }\n",
       "</style>\n",
       "<table border=\"1\" class=\"dataframe\">\n",
       "  <thead>\n",
       "    <tr style=\"text-align: right;\">\n",
       "      <th></th>\n",
       "      <th>DEATH_EVENT</th>\n",
       "      <th>age</th>\n",
       "      <th>anaemia</th>\n",
       "      <th>creatinine_phosphokinase</th>\n",
       "      <th>diabetes</th>\n",
       "      <th>ejection_fraction</th>\n",
       "      <th>high_blood_pressure</th>\n",
       "      <th>platelets</th>\n",
       "      <th>serum_creatinine</th>\n",
       "      <th>serum_sodium</th>\n",
       "      <th>sex</th>\n",
       "      <th>smoking</th>\n",
       "      <th>time</th>\n",
       "    </tr>\n",
       "  </thead>\n",
       "  <tbody>\n",
       "    <tr>\n",
       "      <th>count</th>\n",
       "      <td>191.000000</td>\n",
       "      <td>191.000000</td>\n",
       "      <td>191.000000</td>\n",
       "      <td>191.000000</td>\n",
       "      <td>191.000000</td>\n",
       "      <td>191.000000</td>\n",
       "      <td>191.000000</td>\n",
       "      <td>191.000000</td>\n",
       "      <td>191.000000</td>\n",
       "      <td>191.000000</td>\n",
       "      <td>191.000000</td>\n",
       "      <td>191.000000</td>\n",
       "      <td>191.000000</td>\n",
       "    </tr>\n",
       "    <tr>\n",
       "      <th>mean</th>\n",
       "      <td>0.287958</td>\n",
       "      <td>61.582901</td>\n",
       "      <td>0.434555</td>\n",
       "      <td>599.481675</td>\n",
       "      <td>0.413613</td>\n",
       "      <td>38.162304</td>\n",
       "      <td>0.340314</td>\n",
       "      <td>258202.766911</td>\n",
       "      <td>1.365916</td>\n",
       "      <td>136.439791</td>\n",
       "      <td>0.654450</td>\n",
       "      <td>0.329843</td>\n",
       "      <td>132.387435</td>\n",
       "    </tr>\n",
       "    <tr>\n",
       "      <th>std</th>\n",
       "      <td>0.454002</td>\n",
       "      <td>11.929028</td>\n",
       "      <td>0.497001</td>\n",
       "      <td>1024.006285</td>\n",
       "      <td>0.493775</td>\n",
       "      <td>10.960688</td>\n",
       "      <td>0.475060</td>\n",
       "      <td>86640.165807</td>\n",
       "      <td>0.914212</td>\n",
       "      <td>4.600376</td>\n",
       "      <td>0.476797</td>\n",
       "      <td>0.471392</td>\n",
       "      <td>78.501670</td>\n",
       "    </tr>\n",
       "    <tr>\n",
       "      <th>min</th>\n",
       "      <td>0.000000</td>\n",
       "      <td>40.000000</td>\n",
       "      <td>0.000000</td>\n",
       "      <td>23.000000</td>\n",
       "      <td>0.000000</td>\n",
       "      <td>15.000000</td>\n",
       "      <td>0.000000</td>\n",
       "      <td>47000.000000</td>\n",
       "      <td>0.600000</td>\n",
       "      <td>113.000000</td>\n",
       "      <td>0.000000</td>\n",
       "      <td>0.000000</td>\n",
       "      <td>4.000000</td>\n",
       "    </tr>\n",
       "    <tr>\n",
       "      <th>25%</th>\n",
       "      <td>0.000000</td>\n",
       "      <td>53.000000</td>\n",
       "      <td>0.000000</td>\n",
       "      <td>103.500000</td>\n",
       "      <td>0.000000</td>\n",
       "      <td>30.000000</td>\n",
       "      <td>0.000000</td>\n",
       "      <td>214000.000000</td>\n",
       "      <td>0.900000</td>\n",
       "      <td>134.000000</td>\n",
       "      <td>0.000000</td>\n",
       "      <td>0.000000</td>\n",
       "      <td>74.000000</td>\n",
       "    </tr>\n",
       "    <tr>\n",
       "      <th>50%</th>\n",
       "      <td>0.000000</td>\n",
       "      <td>60.000000</td>\n",
       "      <td>0.000000</td>\n",
       "      <td>231.000000</td>\n",
       "      <td>0.000000</td>\n",
       "      <td>38.000000</td>\n",
       "      <td>0.000000</td>\n",
       "      <td>262000.000000</td>\n",
       "      <td>1.100000</td>\n",
       "      <td>137.000000</td>\n",
       "      <td>1.000000</td>\n",
       "      <td>0.000000</td>\n",
       "      <td>118.000000</td>\n",
       "    </tr>\n",
       "    <tr>\n",
       "      <th>75%</th>\n",
       "      <td>1.000000</td>\n",
       "      <td>70.000000</td>\n",
       "      <td>1.000000</td>\n",
       "      <td>582.000000</td>\n",
       "      <td>1.000000</td>\n",
       "      <td>42.500000</td>\n",
       "      <td>1.000000</td>\n",
       "      <td>301000.000000</td>\n",
       "      <td>1.400000</td>\n",
       "      <td>140.000000</td>\n",
       "      <td>1.000000</td>\n",
       "      <td>1.000000</td>\n",
       "      <td>207.500000</td>\n",
       "    </tr>\n",
       "    <tr>\n",
       "      <th>max</th>\n",
       "      <td>1.000000</td>\n",
       "      <td>95.000000</td>\n",
       "      <td>1.000000</td>\n",
       "      <td>7861.000000</td>\n",
       "      <td>1.000000</td>\n",
       "      <td>65.000000</td>\n",
       "      <td>1.000000</td>\n",
       "      <td>621000.000000</td>\n",
       "      <td>6.800000</td>\n",
       "      <td>146.000000</td>\n",
       "      <td>1.000000</td>\n",
       "      <td>1.000000</td>\n",
       "      <td>280.000000</td>\n",
       "    </tr>\n",
       "  </tbody>\n",
       "</table>\n",
       "</div>"
      ],
      "text/plain": [
       "       DEATH_EVENT         age     anaemia  creatinine_phosphokinase  \\\n",
       "count   191.000000  191.000000  191.000000                191.000000   \n",
       "mean      0.287958   61.582901    0.434555                599.481675   \n",
       "std       0.454002   11.929028    0.497001               1024.006285   \n",
       "min       0.000000   40.000000    0.000000                 23.000000   \n",
       "25%       0.000000   53.000000    0.000000                103.500000   \n",
       "50%       0.000000   60.000000    0.000000                231.000000   \n",
       "75%       1.000000   70.000000    1.000000                582.000000   \n",
       "max       1.000000   95.000000    1.000000               7861.000000   \n",
       "\n",
       "         diabetes  ejection_fraction  high_blood_pressure      platelets  \\\n",
       "count  191.000000         191.000000           191.000000     191.000000   \n",
       "mean     0.413613          38.162304             0.340314  258202.766911   \n",
       "std      0.493775          10.960688             0.475060   86640.165807   \n",
       "min      0.000000          15.000000             0.000000   47000.000000   \n",
       "25%      0.000000          30.000000             0.000000  214000.000000   \n",
       "50%      0.000000          38.000000             0.000000  262000.000000   \n",
       "75%      1.000000          42.500000             1.000000  301000.000000   \n",
       "max      1.000000          65.000000             1.000000  621000.000000   \n",
       "\n",
       "       serum_creatinine  serum_sodium         sex     smoking        time  \n",
       "count        191.000000    191.000000  191.000000  191.000000  191.000000  \n",
       "mean           1.365916    136.439791    0.654450    0.329843  132.387435  \n",
       "std            0.914212      4.600376    0.476797    0.471392   78.501670  \n",
       "min            0.600000    113.000000    0.000000    0.000000    4.000000  \n",
       "25%            0.900000    134.000000    0.000000    0.000000   74.000000  \n",
       "50%            1.100000    137.000000    1.000000    0.000000  118.000000  \n",
       "75%            1.400000    140.000000    1.000000    1.000000  207.500000  \n",
       "max            6.800000    146.000000    1.000000    1.000000  280.000000  "
      ]
     },
     "execution_count": 15,
     "metadata": {},
     "output_type": "execute_result"
    }
   ],
   "source": [
    "# Statistiche del dataset\n",
    "train_data.describe()"
   ]
  },
  {
   "cell_type": "markdown",
   "metadata": {},
   "source": [
    "Osserviamo le quantità di persone che, durante il periodo di osservazione, hanno avuto o meno un arresto cardiaco."
   ]
  },
  {
   "cell_type": "code",
   "execution_count": 16,
   "metadata": {},
   "outputs": [
    {
     "data": {
      "text/plain": [
       "0    136\n",
       "1     55\n",
       "Name: DEATH_EVENT, dtype: int64"
      ]
     },
     "execution_count": 16,
     "metadata": {},
     "output_type": "execute_result"
    }
   ],
   "source": [
    "# Numero delle persone che hanno avuto o meno\n",
    "# un arresto cardiaco (DEATH_EVENT) durante il periodo\n",
    "# di osservazione:\n",
    "# 0: NON hanno avuto un arresto cardiaco\n",
    "# 1: hanno avuto un arresto cardiaco\n",
    "train_data['DEATH_EVENT'].value_counts()"
   ]
  },
  {
   "cell_type": "code",
   "execution_count": 17,
   "metadata": {
    "scrolled": true
   },
   "outputs": [
    {
     "data": {
      "text/plain": [
       "<matplotlib.axes._subplots.AxesSubplot at 0x1b47e4e7b88>"
      ]
     },
     "execution_count": 17,
     "metadata": {},
     "output_type": "execute_result"
    },
    {
     "data": {
      "image/png": "[encoded data removed]",
      "text/plain": [
       "<Figure size 432x288 with 1 Axes>"
      ]
     },
     "metadata": {
      "needs_background": "light"
     },
     "output_type": "display_data"
    }
   ],
   "source": [
    "# Diagramma del numero delle persone che hanno avuto o meno\n",
    "# un arresto cardiaco (DEATH_EVENT) durante il periodo\n",
    "# di osservazione:\n",
    "sns.countplot(train_data['DEATH_EVENT'])"
   ]
  },
  {
   "cell_type": "markdown",
   "metadata": {},
   "source": [
    "Ora invece mettiamo in relazione le features del dataset con la quantità di persone che sono state sotto osservazione."
   ]
  },
  {
   "cell_type": "code",
   "execution_count": 18,
   "metadata": {},
   "outputs": [],
   "source": [
    "cols = ['age', 'anaemia', 'creatinine_phosphokinase', 'diabetes', 'ejection_fraction',\n",
    "       'high_blood_pressure', 'platelets', 'serum_creatinine', 'serum_sodium', 'sex',\n",
    "       'smoking', 'time']"
   ]
  },
  {
   "cell_type": "code",
   "execution_count": 19,
   "metadata": {},
   "outputs": [
    {
     "name": "stdout",
     "output_type": "stream",
     "text": [
      "age   DEATH_EVENT\n",
      "40.0  0              3\n",
      "41.0  0              1\n",
      "42.0  0              3\n",
      "      1              1\n",
      "43.0  0              1\n",
      "                    ..\n",
      "87.0  1              1\n",
      "90.0  0              1\n",
      "      1              1\n",
      "94.0  1              1\n",
      "95.0  1              1\n",
      "Length: 65, dtype: int64\n",
      "anaemia  DEATH_EVENT\n",
      "0        0              77\n",
      "         1              31\n",
      "1        0              59\n",
      "         1              24\n",
      "dtype: int64\n",
      "creatinine_phosphokinase  DEATH_EVENT\n",
      "23                        1              1\n",
      "30                        0              1\n",
      "52                        0              1\n",
      "54                        0              1\n",
      "55                        0              1\n",
      "                                        ..\n",
      "3966                      0              1\n",
      "4540                      0              1\n",
      "5209                      0              1\n",
      "5882                      1              1\n",
      "7861                      1              1\n",
      "Length: 149, dtype: int64\n",
      "diabetes  DEATH_EVENT\n",
      "0         0              80\n",
      "          1              32\n",
      "1         0              56\n",
      "          1              23\n",
      "dtype: int64\n",
      "ejection_fraction  DEATH_EVENT\n",
      "15                 1               1\n",
      "17                 1               1\n",
      "20                 0               1\n",
      "                   1              12\n",
      "25                 0              10\n",
      "                   1               7\n",
      "30                 0              14\n",
      "                   1               6\n",
      "35                 0              28\n",
      "                   1               4\n",
      "38                 0              21\n",
      "                   1              10\n",
      "40                 0              25\n",
      "                   1               3\n",
      "45                 0              10\n",
      "                   1               2\n",
      "50                 0              10\n",
      "                   1               4\n",
      "55                 0               2\n",
      "                   1               1\n",
      "60                 0              14\n",
      "                   1               2\n",
      "62                 0               1\n",
      "                   1               1\n",
      "65                 1               1\n",
      "dtype: int64\n",
      "high_blood_pressure  DEATH_EVENT\n",
      "0                    0              92\n",
      "                     1              34\n",
      "1                    0              44\n",
      "                     1              21\n",
      "dtype: int64\n",
      "platelets  DEATH_EVENT\n",
      "47000.0    1              1\n",
      "62000.0    1              1\n",
      "70000.0    1              1\n",
      "73000.0    0              1\n",
      "87000.0    1              1\n",
      "                         ..\n",
      "451000.0   1              1\n",
      "507000.0   0              1\n",
      "533000.0   0              1\n",
      "543000.0   0              1\n",
      "621000.0   1              1\n",
      "Length: 149, dtype: int64\n",
      "serum_creatinine  DEATH_EVENT\n",
      "0.60              0               1\n",
      "                  1               1\n",
      "0.70              0              14\n",
      "0.75              0               1\n",
      "0.80              0              14\n",
      "0.90              0              22\n",
      "                  1               3\n",
      "1.00              0              25\n",
      "                  1               8\n",
      "1.10              0              16\n",
      "                  1               3\n",
      "1.18              0               7\n",
      "1.20              0               9\n",
      "                  1               4\n",
      "1.30              0               8\n",
      "                  1               5\n",
      "1.40              0               4\n",
      "                  1               2\n",
      "1.50              0               1\n",
      "                  1               2\n",
      "1.60              0               2\n",
      "                  1               1\n",
      "1.70              0               4\n",
      "                  1               2\n",
      "1.80              0               2\n",
      "1.83              1               6\n",
      "1.90              1               3\n",
      "2.10              0               1\n",
      "                  1               2\n",
      "2.30              0               1\n",
      "                  1               1\n",
      "2.40              1               1\n",
      "2.50              1               1\n",
      "2.70              0               1\n",
      "                  1               1\n",
      "2.90              1               1\n",
      "3.00              1               2\n",
      "3.20              0               1\n",
      "3.50              1               1\n",
      "3.70              1               1\n",
      "4.00              1               1\n",
      "4.40              1               1\n",
      "5.00              0               1\n",
      "5.80              1               1\n",
      "6.10              0               1\n",
      "6.80              1               1\n",
      "dtype: int64\n",
      "serum_sodium  DEATH_EVENT\n",
      "113           0               1\n",
      "116           1               1\n",
      "121           1               1\n",
      "124           1               1\n",
      "127           1               2\n",
      "128           1               1\n",
      "129           1               2\n",
      "130           0               4\n",
      "              1               1\n",
      "131           0               2\n",
      "              1               2\n",
      "132           0               6\n",
      "              1               4\n",
      "133           0               7\n",
      "              1               1\n",
      "134           0               9\n",
      "              1              14\n",
      "135           0               7\n",
      "              1               1\n",
      "136           0              17\n",
      "              1               7\n",
      "137           0              20\n",
      "              1               1\n",
      "138           0              10\n",
      "              1               6\n",
      "139           0              13\n",
      "              1               1\n",
      "140           0              18\n",
      "              1               4\n",
      "141           0              10\n",
      "142           0               4\n",
      "              1               2\n",
      "143           0               2\n",
      "144           0               2\n",
      "              1               1\n",
      "145           0               4\n",
      "              1               1\n",
      "146           1               1\n",
      "dtype: int64\n",
      "sex  DEATH_EVENT\n",
      "0    0              46\n",
      "     1              20\n",
      "1    0              90\n",
      "     1              35\n",
      "dtype: int64\n",
      "smoking  DEATH_EVENT\n",
      "0        0              89\n",
      "         1              39\n",
      "1        0              47\n",
      "         1              16\n",
      "dtype: int64\n",
      "time  DEATH_EVENT\n",
      "4     1              1\n",
      "6     1              1\n",
      "7     1              2\n",
      "8     1              1\n",
      "10    1              3\n",
      "                    ..\n",
      "257   0              1\n",
      "258   0              2\n",
      "270   0              2\n",
      "271   0              1\n",
      "280   0              1\n",
      "Length: 123, dtype: int64\n"
     ]
    }
   ],
   "source": [
    "# Alcune stampe che mettono in relazione le features\n",
    "# del dataset con le persone che si sono sottoposte al\n",
    "# periodo di osservazione\n",
    "\n",
    "for col in cols:\n",
    "    print(train_data.groupby([col, 'DEATH_EVENT']).size())"
   ]
  },
  {
   "cell_type": "code",
   "execution_count": 20,
   "metadata": {
    "scrolled": true
   },
   "outputs": [
    {
     "data": {
      "image/png": "[encoded data removed]",
      "text/plain": [
       "<Figure size 1152x1728 with 12 Axes>"
      ]
     },
     "metadata": {
      "needs_background": "light"
     },
     "output_type": "display_data"
    }
   ],
   "source": [
    "# Alcuni grafici che mettono in relazione le features\n",
    "# del dataset con le persone che si sono sottoposte al\n",
    "# periodo di osservazione\n",
    "\n",
    "cols = ['age', 'anaemia', 'creatinine_phosphokinase', 'diabetes', 'ejection_fraction',\n",
    "       'high_blood_pressure', 'platelets', 'serum_creatinine', 'serum_sodium', 'sex',\n",
    "       'smoking', 'time']\n",
    "\n",
    "n_rows = 6\n",
    "n_cols = 2\n",
    "\n",
    "fig, axs = plt.subplots(n_rows, n_cols, figsize=(n_cols*8, n_rows*4))\n",
    "i=0\n",
    "for r in range(n_rows):\n",
    "    for c in range(n_cols):\n",
    "        ax = axs[r][c]\n",
    "        sns.countplot(train_data[cols[i]], hue=train_data['DEATH_EVENT'], ax=ax)\n",
    "        ax.set_title(cols[i])\n",
    "        ax.legend(title='DEATH_EVENT', loc='upper right')\n",
    "        i+=1\n",
    "    \n",
    "plt.tight_layout()"
   ]
  },
  {
   "cell_type": "markdown",
   "metadata": {},
   "source": [
    "Attraverso i dati e i grafici appena mostrati è possibile fare le seguenti osservazioni:\n",
    "- age: all'aumentare dell'età aumenta la probabilità di avere un arresto cardiaco;\n",
    "- anaemia: i possessori di anemia hanno una maggiore possibilità di avere un attacco cardiaco, infatti risulta che circa il 35% dei pazienti con anemia hanno avuto un arresto cardiaco contro il 25% dei pazienti che non hanno anemia;\n",
    "- creatinine_phosphokinase: questo valore è ininfluente in quanto è importante considerare un intervallo e non un singolo valore. Ciò che può essere utile ai fini statistici è la considerazione dei valori alti che possono indicare la probabilità di un recente infarto (fonte: https://www.my-personaltrainer.it/fisiologia/creatinchinasi.html#116067);\n",
    "- diabetes: avere il diabete non comporta necessariamente un arresto cardiaco, infatti i dati che abbiamo a disposizione mostrano che solo circa il 28% dei pazienti osservati con il diabete hanno avuto un arresto cardiaco contro il 30% dei pazienti senza diabete;\n",
    "- ejection_fraction: i valori in percentuale di frazione di eiezione sono un dato utile per poter predirre la possibilità di avere un infarto; i valori normali per una persona sono compresi tra il 50% e il 65% (anche se il limite inferiore è molto vario), sotto questi valori si può manifestare uno scompenso cardiaco, in particolare tale diagnosi si può dividere in due gruppi (fonti: https://it.wikipedia.org/wiki/Frazione_di_eiezione e https://www.my-personaltrainer.it/salute-benessere/insufficienza-cardiaca-trattamento.html):\n",
    "    - compreso tra il 40 e il 49% dove lo scompenso è moderatamente ridotto\n",
    "    - inferiore al 40% dove le probabilità di avere un infarto diventano altissime\n",
    "- high_blood_pressure: il numero di arresti cardiaci in pazienti con pressione alta è maggiore rispetto agli altri, infatti si parla di una percentuale di 34% contro il 26%;\n",
    "- platelets: il valore normale di piastrine nel corpo si aggira tra le 150.000 e le 450.000 unità per microlitro di sangue; valori molto alti possono provocare trombosi (con la possibile conseguenza di arresto cardiaco) mentre un valore molto basso può provocare la morte per emorragia;\n",
    "- serum_creatinine: il valore della creatinina si usa per monitorare il corretto funzionamento di filtraggio dei reni; i valori normali variano tra un minimo di 0,6 e un massimo di 1,3 mg/dl; nel grafico si nota come all'aumentare di questo valore la maggior parte dei pazienti ha avuto un arresto cardiaco;\n",
    "- serum_sodium: livelli alti di sodio nel sangue possono portare a Ipernatriemia che in situazioni gravi può portare a confusione, spasmi muscolari, convulsioni, coma e morte. Al contrario, un basso livello di sodio ha molte cause, compresi l’insufficienza renale, l’insufficienza cardiaca;\n",
    "- sex: dai risultati si osserva che circa il 35% dei pazienti di sesso 0 e circa il 26% dei pazienti di sesso 1 hanno avuto un arresto cardiaco;\n",
    "- smoking: dai risultati si osserva che circa il 32% dei pazienti di che non fumano e circa il 23% dei pazienti che fumano hanno avuto un arresto cardiaco;\n",
    "- time: guardando il grafico si può osservare come all'aumentare del tempo di osservazione diminuiscono i casi di morte per arresto cardiaco."
   ]
  },
  {
   "cell_type": "markdown",
   "metadata": {},
   "source": [
    "Un'osservazione particolare deve essere fatta sui due picchi nei grafici delle features *creatinine_phosphokinase* e della *platelets* che, su un numero di dati così ridotto, non risultano avere una valenza significativa. Per poter dare importanza a questi due picchi sarebbe necessario confrontarli con un dataset con un numero di campioni maggiore."
   ]
  },
  {
   "cell_type": "markdown",
   "metadata": {},
   "source": [
    "## Aggiustamenti vari sul dataset"
   ]
  },
  {
   "cell_type": "markdown",
   "metadata": {},
   "source": [
    "Una correzione da dover fare al dataset è quello di arrotondare i dati nlla colonna age, in quanto non ha senso avere un'età con parte decimale."
   ]
  },
  {
   "cell_type": "code",
   "execution_count": 21,
   "metadata": {},
   "outputs": [],
   "source": [
    "train_data['age'] = train_data['age'].round()\n",
    "test_data['age'] = test_data['age'].round()"
   ]
  },
  {
   "cell_type": "code",
   "execution_count": 22,
   "metadata": {},
   "outputs": [
    {
     "data": {
      "text/plain": [
       "DEATH_EVENT                   int64\n",
       "age                         float64\n",
       "anaemia                       int64\n",
       "creatinine_phosphokinase      int64\n",
       "diabetes                      int64\n",
       "ejection_fraction             int64\n",
       "high_blood_pressure           int64\n",
       "platelets                   float64\n",
       "serum_creatinine            float64\n",
       "serum_sodium                  int64\n",
       "sex                           int64\n",
       "smoking                       int64\n",
       "time                          int64\n",
       "dtype: object"
      ]
     },
     "execution_count": 22,
     "metadata": {},
     "output_type": "execute_result"
    }
   ],
   "source": [
    "train_data.dtypes"
   ]
  },
  {
   "cell_type": "markdown",
   "metadata": {},
   "source": [
    "Dal momento che il modello che si andrà ad utilizzare sfrutta dati di tipo float32 eseguiamo una conversione di tutte le colonne:"
   ]
  },
  {
   "cell_type": "code",
   "execution_count": 23,
   "metadata": {},
   "outputs": [],
   "source": [
    "train_data = train_data.apply(lambda x: x.astype(np.float32), axis=0)\n",
    "test_data = test_data.apply(lambda x: x.astype(np.float32), axis=0)"
   ]
  },
  {
   "cell_type": "code",
   "execution_count": 24,
   "metadata": {},
   "outputs": [
    {
     "data": {
      "text/plain": [
       "DEATH_EVENT                 float32\n",
       "age                         float32\n",
       "anaemia                     float32\n",
       "creatinine_phosphokinase    float32\n",
       "diabetes                    float32\n",
       "ejection_fraction           float32\n",
       "high_blood_pressure         float32\n",
       "platelets                   float32\n",
       "serum_creatinine            float32\n",
       "serum_sodium                float32\n",
       "sex                         float32\n",
       "smoking                     float32\n",
       "time                        float32\n",
       "dtype: object"
      ]
     },
     "execution_count": 24,
     "metadata": {},
     "output_type": "execute_result"
    }
   ],
   "source": [
    "train_data.dtypes"
   ]
  },
  {
   "cell_type": "code",
   "execution_count": 25,
   "metadata": {},
   "outputs": [
    {
     "data": {
      "text/html": [
       "<div>\n",
       "<style scoped>\n",
       "    .dataframe tbody tr th:only-of-type {\n",
       "        vertical-align: middle;\n",
       "    }\n",
       "\n",
       "    .dataframe tbody tr th {\n",
       "        vertical-align: top;\n",
       "    }\n",
       "\n",
       "    .dataframe thead th {\n",
       "        text-align: right;\n",
       "    }\n",
       "</style>\n",
       "<table border=\"1\" class=\"dataframe\">\n",
       "  <thead>\n",
       "    <tr style=\"text-align: right;\">\n",
       "      <th></th>\n",
       "      <th>DEATH_EVENT</th>\n",
       "      <th>age</th>\n",
       "      <th>anaemia</th>\n",
       "      <th>creatinine_phosphokinase</th>\n",
       "      <th>diabetes</th>\n",
       "      <th>ejection_fraction</th>\n",
       "      <th>high_blood_pressure</th>\n",
       "      <th>platelets</th>\n",
       "      <th>serum_creatinine</th>\n",
       "      <th>serum_sodium</th>\n",
       "      <th>sex</th>\n",
       "      <th>smoking</th>\n",
       "      <th>time</th>\n",
       "    </tr>\n",
       "  </thead>\n",
       "  <tbody>\n",
       "    <tr>\n",
       "      <th>0</th>\n",
       "      <td>0.0</td>\n",
       "      <td>50.0</td>\n",
       "      <td>1.0</td>\n",
       "      <td>54.0</td>\n",
       "      <td>0.0</td>\n",
       "      <td>40.0</td>\n",
       "      <td>0.0</td>\n",
       "      <td>279000.00000</td>\n",
       "      <td>0.80</td>\n",
       "      <td>141.0</td>\n",
       "      <td>1.0</td>\n",
       "      <td>0.0</td>\n",
       "      <td>250.0</td>\n",
       "    </tr>\n",
       "    <tr>\n",
       "      <th>1</th>\n",
       "      <td>1.0</td>\n",
       "      <td>61.0</td>\n",
       "      <td>1.0</td>\n",
       "      <td>104.0</td>\n",
       "      <td>1.0</td>\n",
       "      <td>30.0</td>\n",
       "      <td>0.0</td>\n",
       "      <td>389000.00000</td>\n",
       "      <td>1.50</td>\n",
       "      <td>136.0</td>\n",
       "      <td>1.0</td>\n",
       "      <td>0.0</td>\n",
       "      <td>171.0</td>\n",
       "    </tr>\n",
       "    <tr>\n",
       "      <th>2</th>\n",
       "      <td>0.0</td>\n",
       "      <td>60.0</td>\n",
       "      <td>1.0</td>\n",
       "      <td>2281.0</td>\n",
       "      <td>1.0</td>\n",
       "      <td>40.0</td>\n",
       "      <td>0.0</td>\n",
       "      <td>283000.00000</td>\n",
       "      <td>1.00</td>\n",
       "      <td>141.0</td>\n",
       "      <td>0.0</td>\n",
       "      <td>0.0</td>\n",
       "      <td>187.0</td>\n",
       "    </tr>\n",
       "    <tr>\n",
       "      <th>3</th>\n",
       "      <td>0.0</td>\n",
       "      <td>65.0</td>\n",
       "      <td>1.0</td>\n",
       "      <td>720.0</td>\n",
       "      <td>1.0</td>\n",
       "      <td>40.0</td>\n",
       "      <td>0.0</td>\n",
       "      <td>257000.00000</td>\n",
       "      <td>1.00</td>\n",
       "      <td>136.0</td>\n",
       "      <td>0.0</td>\n",
       "      <td>0.0</td>\n",
       "      <td>210.0</td>\n",
       "    </tr>\n",
       "    <tr>\n",
       "      <th>4</th>\n",
       "      <td>0.0</td>\n",
       "      <td>67.0</td>\n",
       "      <td>0.0</td>\n",
       "      <td>582.0</td>\n",
       "      <td>0.0</td>\n",
       "      <td>50.0</td>\n",
       "      <td>0.0</td>\n",
       "      <td>263358.03125</td>\n",
       "      <td>1.18</td>\n",
       "      <td>137.0</td>\n",
       "      <td>1.0</td>\n",
       "      <td>1.0</td>\n",
       "      <td>76.0</td>\n",
       "    </tr>\n",
       "  </tbody>\n",
       "</table>\n",
       "</div>"
      ],
      "text/plain": [
       "   DEATH_EVENT   age  anaemia  creatinine_phosphokinase  diabetes  \\\n",
       "0          0.0  50.0      1.0                      54.0       0.0   \n",
       "1          1.0  61.0      1.0                     104.0       1.0   \n",
       "2          0.0  60.0      1.0                    2281.0       1.0   \n",
       "3          0.0  65.0      1.0                     720.0       1.0   \n",
       "4          0.0  67.0      0.0                     582.0       0.0   \n",
       "\n",
       "   ejection_fraction  high_blood_pressure     platelets  serum_creatinine  \\\n",
       "0               40.0                  0.0  279000.00000              0.80   \n",
       "1               30.0                  0.0  389000.00000              1.50   \n",
       "2               40.0                  0.0  283000.00000              1.00   \n",
       "3               40.0                  0.0  257000.00000              1.00   \n",
       "4               50.0                  0.0  263358.03125              1.18   \n",
       "\n",
       "   serum_sodium  sex  smoking   time  \n",
       "0         141.0  1.0      0.0  250.0  \n",
       "1         136.0  1.0      0.0  171.0  \n",
       "2         141.0  0.0      0.0  187.0  \n",
       "3         136.0  0.0      0.0  210.0  \n",
       "4         137.0  1.0      1.0   76.0  "
      ]
     },
     "execution_count": 25,
     "metadata": {},
     "output_type": "execute_result"
    }
   ],
   "source": [
    "train_data.head()"
   ]
  },
  {
   "cell_type": "markdown",
   "metadata": {},
   "source": [
    "## Modello"
   ]
  },
  {
   "cell_type": "markdown",
   "metadata": {},
   "source": [
    "Adesso si andrà a creare il modello-classificatore che sarà successivamente addestrato."
   ]
  },
  {
   "cell_type": "markdown",
   "metadata": {},
   "source": [
    "### Dichiarazione del modello"
   ]
  },
  {
   "cell_type": "markdown",
   "metadata": {},
   "source": [
    "Il classificatore che è stato utilizzato prende il nome di *RandomForestClassifier*. Questo algoritmo addestra un certo numero di alberi classificatori (in questo caso 100) su delle piccole porzioni del dataset e ne calcola una media dei risultati per migliorare l'accuracy di predizione dei dati che seguiranno ed evitare l'overfitting."
   ]
  },
  {
   "cell_type": "code",
   "execution_count": 26,
   "metadata": {},
   "outputs": [],
   "source": [
    "# dichiarazione del modello\n",
    "model = RandomForestClassifier()"
   ]
  },
  {
   "cell_type": "code",
   "execution_count": 27,
   "metadata": {},
   "outputs": [
    {
     "name": "stdout",
     "output_type": "stream",
     "text": [
      "RandomForestClassifier()\n"
     ]
    }
   ],
   "source": [
    "print(model)"
   ]
  },
  {
   "cell_type": "markdown",
   "metadata": {},
   "source": [
    "## Train e Test"
   ]
  },
  {
   "cell_type": "markdown",
   "metadata": {},
   "source": [
    "### Divisione Xy"
   ]
  },
  {
   "cell_type": "markdown",
   "metadata": {},
   "source": [
    "Ora iniziamo a prepararci per l'addestramento del modello. Per prima cosa, dopo aver deciso le features su cui addestrare la rete, procediamo con la divisione del dataset in due parti: y che contiene solo la colonna delle label e X che conterrà tutto il resto."
   ]
  },
  {
   "cell_type": "code",
   "execution_count": 28,
   "metadata": {},
   "outputs": [],
   "source": [
    "# Scegliamo la colonna su cui si desidera addestrare il modello, ovvero\n",
    "# la nostra 'label'\n",
    "label = 'DEATH_EVENT'\n",
    "\n",
    "# Scegliamo le colonne su cui NON voglimo addestrare il modello\n",
    "not_features = ['diabetes', 'creatinine_phosphokinase', 'platelets', 'smoking']"
   ]
  },
  {
   "cell_type": "markdown",
   "metadata": {},
   "source": [
    "Le features che si sono decise di ignorare sono:\n",
    "- \"*diabetes*\" in quanto non c'è una differenza significativa tra chi ne è affetto e chi non;\n",
    "- le due features \"*creatinine_phosphokinase*\" e \"*platelets*\" che presentano dei picchi troppo anomali che potrebbero influire in modo troppo significativo e errato il modello;\n",
    "- la percentuale di fumatori che hanno avuto un arresto cardiaco è troppo bassa rispetto al numero dei campioni per poter affermare che il fumo ne sia una causa."
   ]
  },
  {
   "cell_type": "code",
   "execution_count": 29,
   "metadata": {},
   "outputs": [],
   "source": [
    "# Dividiamo il train-set e il test-set in due parti così da poter addestrare il modello:\n",
    "# y che contiene solo la colonna label 'DEATH_EVENT' che consiste nella soluzione al problema\n",
    "# X che contiene tutte le altre colonne droppando dal dataset\n",
    "# quelle specificate in 'not_features'.\n",
    "y_train = train_data.pop(label)\n",
    "X_train = train_data.drop(not_features, axis=1)\n",
    "\n",
    "y_test = test_data.pop(label)\n",
    "X_test = test_data.drop(not_features, axis=1)"
   ]
  },
  {
   "cell_type": "markdown",
   "metadata": {},
   "source": [
    "### Addestramento - Train"
   ]
  },
  {
   "cell_type": "markdown",
   "metadata": {},
   "source": [
    "Ora è arrivato il momento di addestrare il modello."
   ]
  },
  {
   "cell_type": "code",
   "execution_count": 30,
   "metadata": {},
   "outputs": [
    {
     "name": "stdout",
     "output_type": "stream",
     "text": [
      "Training score: 100.0000%\n"
     ]
    }
   ],
   "source": [
    "# Addestramento del modello\n",
    "model = model.fit(X_train, y_train)\n",
    "\n",
    "# Calcolo dello score di addestramento del modello\n",
    "score = model.score(X_train, y_train)\n",
    "\n",
    "print(f\"Training score: {score:.4%}\")"
   ]
  },
  {
   "cell_type": "markdown",
   "metadata": {},
   "source": [
    "### Valutazione - Test"
   ]
  },
  {
   "cell_type": "markdown",
   "metadata": {},
   "source": [
    "Ora eseguiamo la valutazione del modello tramite la predizione dei valori di test."
   ]
  },
  {
   "cell_type": "code",
   "execution_count": 31,
   "metadata": {},
   "outputs": [
    {
     "name": "stdout",
     "output_type": "stream",
     "text": [
      "Prediction Accuracy: 85.4167%\n"
     ]
    }
   ],
   "source": [
    "# Predizione dei dati di test\n",
    "prediction = model.predict(X_test)\n",
    "\n",
    "# Calcolo dell'accuracy\n",
    "acc = accuracy_score(y_test, prediction)\n",
    "\n",
    "print(f\"Prediction Accuracy: {acc:.4%}\")"
   ]
  },
  {
   "cell_type": "markdown",
   "metadata": {},
   "source": [
    "## Confusion Matrix"
   ]
  },
  {
   "cell_type": "markdown",
   "metadata": {},
   "source": [
    "Stampiamo ora una confusion matrix con i valori trovati durante l'operazione di test."
   ]
  },
  {
   "cell_type": "code",
   "execution_count": 32,
   "metadata": {},
   "outputs": [],
   "source": [
    "# Creazione di una confusion matrix\n",
    "conf_matr = confusion_matrix(y_test, prediction, normalize=None)"
   ]
  },
  {
   "cell_type": "code",
   "execution_count": 33,
   "metadata": {},
   "outputs": [
    {
     "name": "stdout",
     "output_type": "stream",
     "text": [
      "[[29  3]\n",
      " [ 4 12]]\n"
     ]
    }
   ],
   "source": [
    "# Stampa della confusion matrix\n",
    "print(conf_matr)"
   ]
  },
  {
   "cell_type": "code",
   "execution_count": 34,
   "metadata": {
    "scrolled": true
   },
   "outputs": [
    {
     "name": "stdout",
     "output_type": "stream",
     "text": [
      "[[29  3]\n",
      " [ 4 12]]\n"
     ]
    },
    {
     "data": {
      "image/png": "[encoded data removed]",
      "text/plain": [
       "<Figure size 432x288 with 2 Axes>"
      ]
     },
     "metadata": {
      "needs_background": "light"
     },
     "output_type": "display_data"
    }
   ],
   "source": [
    "# Stampa grafica della confusion matrix\n",
    "disp = plot_confusion_matrix(model, X_test, y_test,\n",
    "                                 cmap=plt.cm.Blues)\n",
    "disp.ax_.set_title(\"Confusion Matrix\\nDEATH_EVENT\")\n",
    "\n",
    "print(disp.confusion_matrix)\n",
    "plt.show()"
   ]
  },
  {
   "cell_type": "markdown",
   "metadata": {},
   "source": [
    "## Conclusioni"
   ]
  },
  {
   "cell_type": "markdown",
   "metadata": {},
   "source": [
    "Con il dataset fornito non è possibile addestrare un modello in modo tale da predirre in maniera corretta qualsiasi input.\n",
    "\n",
    "A causa del numero limitato di esempi per l'addestramento il modello non è in grado di creare un albero decisionele ottimo ma, al contrario, si genera un eccessivo overfitting del modello ai dati di train producendo un 100% di accuracy sull'operazione di train e solo un ~80% su quella di test.\n",
    "\n",
    "Inoltre, essendo il rapporto NO_DEATH_EVENT/DEATH_EVENT nel dataset pari a ~70:30 il modello ha avuto troppi pochi esempi per poter realmente imparare a riconoscere quei input con label \"DEATH_EVENT\" pari a 1.\n",
    "\n",
    "infine bisogna porre l'attenzione su un ultimo particolare, ovvero i due picchi che si possono osservare nei grafici (sezione \"Analisi del dataset di train\") delle features *creatinine_phosphokinase* e *platelets*. Poiché questi risultati si ottengono da un dataset di soli 240 elementi, per poter dare una valenza significativa a questi valori anomali bisognerebbe confrontarli con un altro dataset più ampio. L'utilizzo di queste due feature nella fase di addestramento potrebbe influire significativamente in modo negativo nel caso in cui, confrontandole con altri dataset, non rispecchiassero il vero.\n",
    "\n",
    "Questo è il meglio che si poteva fare con un dataset di dimensioni così ridotte."
   ]
  }
 ],
 "metadata": {
  "kernelspec": {
   "display_name": "Python 3",
   "language": "python",
   "name": "python3"
  },
  "language_info": {
   "codemirror_mode": {
    "name": "ipython",
    "version": 3
   },
   "file_extension": ".py",
   "mimetype": "text/x-python",
   "name": "python",
   "nbconvert_exporter": "python",
   "pygments_lexer": "ipython3",
   "version": "3.7.4"
  }
 },
 "nbformat": 4,
 "nbformat_minor": 4
}
